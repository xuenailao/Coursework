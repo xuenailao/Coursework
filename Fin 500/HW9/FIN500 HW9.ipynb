{
 "cells": [
  {
   "cell_type": "code",
   "execution_count": 1,
   "metadata": {},
   "outputs": [
    {
     "data": {
      "text/plain": [
       "(1.4973245379652806, 1.027890013349463)"
      ]
     },
     "execution_count": 1,
     "metadata": {},
     "output_type": "execute_result"
    }
   ],
   "source": [
    "from math import exp\n",
    "\n",
    "# Given data\n",
    "r = 0.053  # risk-free rate (continuously compounded)\n",
    "F_march = 337.87  # March futures price\n",
    "F_sept = 346.751  # September futures price\n",
    "\n",
    "# Dates (in years from September 19, 2024)\n",
    "t_div1 = (15/365)  # Nov 15, 2024\n",
    "t_div2 = (148/365)  # Feb 14, 2025\n",
    "t_div3 = (240/365)  # May 16, 2025\n",
    "t_div4 = (330/365)  # Aug 15, 2025\n",
    "t_sept = 1  # Sep 19, 2025\n",
    "t_march = (177/365)  # March 14, 2025\n",
    "\n",
    "# Dividend amount\n",
    "div = 0.74\n",
    "\n",
    "# Compounding dividends to Sept 19, 2025\n",
    "div1_compounded = div * exp(r * (t_sept - t_div1))\n",
    "div2_compounded = div * exp(r * (t_sept - t_div2))\n",
    "div3_compounded = div * exp(r * (t_sept - t_div3))\n",
    "div4_compounded = div * exp(r * (t_sept - t_div4))\n",
    "\n",
    "# Cash flows\n",
    "cost_stock_march = -F_march * exp(r * (t_sept - t_march))  # Buying stock in March, carrying cost to Sept\n",
    "dividends_total = div3_compounded + div4_compounded  # Only dividends received after March are relevant\n",
    "revenue_sept_futures = F_sept  # Revenue from delivering stock into September futures\n",
    "\n",
    "# Net arbitrage profit in September 2025\n",
    "arbitrage_profit = revenue_sept_futures + dividends_total + cost_stock_march\n",
    "\n",
    "dividends_total, arbitrage_profit\n"
   ]
  },
  {
   "cell_type": "code",
   "execution_count": 2,
   "metadata": {},
   "outputs": [
    {
     "data": {
      "text/plain": [
       "0.23200150629184524"
      ]
     },
     "execution_count": 2,
     "metadata": {},
     "output_type": "execute_result"
    }
   ],
   "source": [
    "# Dividend calculation for zero arbitrage profit\n",
    "numerator = F_march * exp(r * (t_sept - t_march)) - F_sept  # Difference in futures values adjusted for carrying cost\n",
    "denominator = exp(r * (t_sept - t_div3)) + exp(r * (t_sept - t_div4))  # Sum of dividend compounding factors\n",
    "\n",
    "# Per-dividend size (d) to make arbitrage profit zero\n",
    "d_zero_profit = numerator / denominator\n",
    "\n",
    "d_zero_profit\n"
   ]
  }
 ],
 "metadata": {
  "kernelspec": {
   "display_name": "base",
   "language": "python",
   "name": "python3"
  },
  "language_info": {
   "codemirror_mode": {
    "name": "ipython",
    "version": 3
   },
   "file_extension": ".py",
   "mimetype": "text/x-python",
   "name": "python",
   "nbconvert_exporter": "python",
   "pygments_lexer": "ipython3",
   "version": "3.10.11"
  }
 },
 "nbformat": 4,
 "nbformat_minor": 2
}
