{
 "cells": [
  {
   "cell_type": "markdown",
   "metadata": {},
   "source": [
    "# Q1 a, b"
   ]
  },
  {
   "cell_type": "code",
   "execution_count": 2,
   "metadata": {},
   "outputs": [
    {
     "name": "stdout",
     "output_type": "stream",
     "text": [
      "Beta: 0.05576456806668122\n",
      "Expected Return: 0.00358341189823299\n",
      "alpha: 0.005975381205215284\n"
     ]
    }
   ],
   "source": [
    "# Q1 a,b \n",
    "import pandas as pd\n",
    "\n",
    "data_Q3 = pd.ExcelFile('./PS5_Q3_data.xls')\n",
    "sheet_name = 'Returns of various assets'\n",
    "data = pd.read_excel(data_Q3, sheet_name=sheet_name, index_col=0, header=1).dropna(axis=1)\n",
    "FS_ret = data.iloc[:, 0]\n",
    "SP_ret = data.iloc[:, 1]\n",
    "\n",
    "E_rFS = FS_ret.mean()\n",
    "E_rSP = SP_ret.mean()\n",
    "\n",
    "sigma_FS = FS_ret.std()\n",
    "sigma_SP = SP_ret.std()\n",
    "\n",
    "rho = FS_ret.corr(SP_ret)\n",
    "\n",
    "r_f = 0.0033\n",
    "\n",
    "beta_FS = (rho * sigma_FS) / sigma_SP\n",
    "\n",
    "E_rFS_CAPM = r_f + beta_FS * (E_rSP - r_f)\n",
    "\n",
    "alpha = E_rFS - E_rFS_CAPM\n",
    "\n",
    "print(f\"Beta: {beta_FS}\")\n",
    "print(f\"Expected Return: {E_rFS_CAPM}\")\n",
    "print(f\"alpha: {alpha}\")"
   ]
  },
  {
   "cell_type": "markdown",
   "metadata": {},
   "source": [
    "### Beta: 0.05576\n",
    "### Expected Return: 0.003583\n",
    "### alpha: 0.005975\n"
   ]
  },
  {
   "cell_type": "markdown",
   "metadata": {},
   "source": [
    "# Q2 a, b, c, d"
   ]
  },
  {
   "cell_type": "code",
   "execution_count": 5,
   "metadata": {},
   "outputs": [
    {
     "data": {
      "text/plain": [
       "(0.15, 0.4326661530556787, 37, 0.4242640687119285, 0.11556254088025605)"
      ]
     },
     "execution_count": 5,
     "metadata": {},
     "output_type": "execute_result"
    }
   ],
   "source": [
    "# Q2 \n",
    "import numpy as np\n",
    "E_ri = 0.15  \n",
    "sigma_i = 0.60  \n",
    "rho_ij = 0.5  \n",
    "r_f = 0.10  \n",
    "N = 25  \n",
    "E_rp = E_ri  \n",
    "sigma_p = np.sqrt((1 / N) * sigma_i**2 + (1 - 1 / N) * rho_ij * sigma_i**2)\n",
    "\n",
    "target_sigma = 0.43 \n",
    "\n",
    "def solve_for_N(target_sigma, sigma_i, rho_ij):\n",
    "    N_required = (sigma_i**2 * (1 - rho_ij)) / (target_sigma**2 - rho_ij * sigma_i**2)\n",
    "    return int(np.ceil(N_required))  \n",
    "\n",
    "N_min = solve_for_N(target_sigma, sigma_i, rho_ij)\n",
    "\n",
    "systematic_risk = np.sqrt(rho_ij) * sigma_i\n",
    "\n",
    "CML_slope = (E_rp - r_f) / sigma_p\n",
    "\n",
    "E_rp, sigma_p, N_min, systematic_risk, CML_slope"
   ]
  },
  {
   "cell_type": "markdown",
   "metadata": {},
   "source": [
    "### a) Expected return is 0.15, standard deviation is 0.432666\n",
    "### b) The smallest number of stocks is 37\n",
    "### c) Std is 0.42426\n",
    "### d) Slope of CML is 0.11556"
   ]
  },
  {
   "cell_type": "markdown",
   "metadata": {},
   "source": [
    "# Q3 a"
   ]
  },
  {
   "cell_type": "code",
   "execution_count": 9,
   "metadata": {},
   "outputs": [
    {
     "data": {
      "text/plain": [
       "0.005242397666666667"
      ]
     },
     "execution_count": 9,
     "metadata": {},
     "output_type": "execute_result"
    }
   ],
   "source": [
    "# Q3 a)\n",
    "beta_AAPL = 1.2314\n",
    "beta_AMZN = 1.1331\n",
    "beta_JNJ = 0.4898\n",
    "beta_large_port = (beta_AAPL + beta_AMZN + beta_JNJ) / 3\n",
    "\n",
    "market_risk_premium = 0.00551\n",
    "\n",
    "rp_large_port = beta_large_port * market_risk_premium\n",
    "\n",
    "rp_large_port"
   ]
  },
  {
   "cell_type": "code",
   "execution_count": 20,
   "metadata": {},
   "outputs": [
    {
     "data": {
      "text/plain": [
       "0.0010822896474621672"
      ]
     },
     "execution_count": 20,
     "metadata": {},
     "output_type": "execute_result"
    }
   ],
   "source": [
    "# Q3 b)\n",
    "var_aapl=0.052878611**2\n",
    "var_amzn=0.072138722**2\n",
    "var_jnj=0.04171887**2\n",
    "\n",
    "var_portfolio_residual = (var_aapl + var_amzn + var_jnj) / 9\n",
    "var_portfolio_residual"
   ]
  },
  {
   "cell_type": "code",
   "execution_count": 21,
   "metadata": {},
   "outputs": [
    {
     "data": {
      "text/plain": [
       "(0.050297851113494906, 0.0010822896474621672)"
      ]
     },
     "execution_count": 21,
     "metadata": {},
     "output_type": "execute_result"
    }
   ],
   "source": [
    "# Q3 c)\n",
    "var_mkt =0.055563898\n",
    "systematic_risk = beta_large_port**2 * var_mkt\n",
    "\n",
    "non_systematic_risk = var_portfolio_residual\n",
    "\n",
    "# Display the results\n",
    "systematic_risk, non_systematic_risk"
   ]
  },
  {
   "cell_type": "code",
   "execution_count": 22,
   "metadata": {},
   "outputs": [
    {
     "data": {
      "text/plain": [
       "0.005695870666666667"
      ]
     },
     "execution_count": 22,
     "metadata": {},
     "output_type": "execute_result"
    }
   ],
   "source": [
    "# Q3 d)\n",
    "# MATX、PCRX、MMI\n",
    "beta_MATX = 1.1091\n",
    "beta_PCRX = 0.7679\n",
    "beta_MMI= 1.2242\n",
    "beta_small_port = (beta_MATX+ beta_PCRX + beta_MMI) / 3\n",
    "\n",
    "market_risk_premium = 0.00551\n",
    "rp_small_port = beta_small_port * market_risk_premium\n",
    "\n",
    "rp_small_port\n"
   ]
  },
  {
   "cell_type": "code",
   "execution_count": 23,
   "metadata": {},
   "outputs": [
    {
     "data": {
      "text/plain": [
       "0.0004534729999999996"
      ]
     },
     "execution_count": 23,
     "metadata": {},
     "output_type": "execute_result"
    }
   ],
   "source": [
    "# Q3 e)\n",
    "market_risk_premium = 0.00551\n",
    "expected_return_difference = (beta_small_port - beta_large_port) * market_risk_premium\n",
    "\n",
    "expected_return_difference"
   ]
  },
  {
   "cell_type": "code",
   "execution_count": 26,
   "metadata": {},
   "outputs": [
    {
     "data": {
      "text/plain": [
       "0.11606457588133864"
      ]
     },
     "execution_count": 26,
     "metadata": {},
     "output_type": "execute_result"
    }
   ],
   "source": [
    "#Q3 f)\n",
    "\n",
    "var_matx_residual = 0.084623288 **2 \n",
    "var_pcrx_residual = 0.187477171 **2 \n",
    "var_mmi_residual =0.073949918 **2\n",
    "\n",
    "var_small_portfolio_residual = (var_matx_residual + var_pcrx_residual + var_mmi_residual) / 9\n",
    "\n",
    "var_small_portfolio = (beta_small_port**2 * var_mkt) + var_small_portfolio_residual\n",
    "var_large_portfolio = (beta_large_port**2 * var_mkt) + var_portfolio_residual\n",
    "var_zero_investment = var_small_portfolio + var_large_portfolio\n",
    "\n",
    "var_zero_investment"
   ]
  },
  {
   "cell_type": "markdown",
   "metadata": {},
   "source": [
    "### a) risk premium: 0.005242\n",
    "### b) residual variance: 0.001082\n",
    "### c) Systematic risk is 0.0502979, non-systematic risk is 0.001082\n",
    "### d) The monthly risk premium of this portfolio is 0.0056959\n",
    "### e) E(rd- ra) = 0.000453473\n",
    "### f) The variance of the zero-investment return is 0.1160"
   ]
  },
  {
   "cell_type": "markdown",
   "metadata": {},
   "source": [
    "# Q4"
   ]
  },
  {
   "cell_type": "code",
   "execution_count": 8,
   "metadata": {},
   "outputs": [
    {
     "data": {
      "text/plain": [
       "0.00514353"
      ]
     },
     "execution_count": 8,
     "metadata": {},
     "output_type": "execute_result"
    }
   ],
   "source": [
    "#Q4\n",
    "beta_m_matx = 1\n",
    "beta_smb_matx = 0.4336\n",
    "beta_hml_matx = 0.6614\n",
    "\n",
    "beta_m_lanc = 0.2799\n",
    "beta_smb_lanc = -0.0397\n",
    "beta_hml_lanc = -0.1477\n",
    "\n",
    "market_risk_premium_ff = 0.0065 \n",
    "smb_premium = 0.00107 \n",
    "hml_premium = 0.00301\n",
    "\n",
    "beta_m_portfolio = (beta_m_matx + beta_m_lanc) / 2\n",
    "beta_smb_portfolio = (beta_smb_matx + beta_smb_lanc) / 2\n",
    "beta_hml_portfolio = (beta_hml_matx + beta_hml_lanc) / 2\n",
    "\n",
    "monthly_risk_premium = (beta_m_portfolio * market_risk_premium_ff) + \\\n",
    "                       (beta_smb_portfolio * smb_premium) + \\\n",
    "                       (beta_hml_portfolio * hml_premium)\n",
    "\n",
    "monthly_risk_premium"
   ]
  },
  {
   "cell_type": "markdown",
   "metadata": {},
   "source": [
    "# Q5"
   ]
  },
  {
   "cell_type": "code",
   "execution_count": 5,
   "metadata": {},
   "outputs": [
    {
     "data": {
      "text/plain": [
       "(0.05950500000000001, 0.01982004, 0.0178285, 0.8995188707994535)"
      ]
     },
     "execution_count": 5,
     "metadata": {},
     "output_type": "execute_result"
    }
   ],
   "source": [
    "import numpy as np\n",
    "\n",
    "# Given data for expected returns and standard deviations\n",
    "expected_returns = np.array([0.0550, 0.0491, 0.0437, 0.0658, 0.0779, 0.0211, 0.1024])\n",
    "weights = np.array([0.05, 0.20, 0.10, 0.40, 0.05, 0.10, 0.10])\n",
    "\n",
    "# Covariance matrix from the second image\n",
    "cov_matrix = np.array([\n",
    "    [0.027553, 0.017111, 0.018188, 0.026707, 0.019405, 0.016228, 0.019440],\n",
    "    [0.017111, 0.016763, 0.015552, 0.017930, 0.012844, 0.011785, 0.016791],\n",
    "    [0.018188, 0.015552, 0.020944, 0.018732, 0.014600, 0.012503, 0.016551],\n",
    "    [0.026707, 0.017930, 0.018732, 0.030481, 0.021456, 0.016061, 0.021317],\n",
    "    [0.019405, 0.012844, 0.014600, 0.021456, 0.026869, 0.010873, 0.018163],\n",
    "    [0.016228, 0.011785, 0.012503, 0.016061, 0.010873, 0.014980, 0.012062],\n",
    "    [0.019440, 0.016791, 0.016551, 0.021317, 0.018163, 0.012062, 0.023466]\n",
    "])\n",
    "\n",
    "expected_return_world = np.dot(weights, expected_returns)\n",
    "variance_world = np.dot(weights.T, np.dot(cov_matrix, weights))\n",
    "cov_japan_world = np.dot(cov_matrix[4], weights)\n",
    "\n",
    "beta_japan = cov_japan_world / variance_world\n",
    "expected_return_world, variance_world, cov_japan_world, beta_japan"
   ]
  },
  {
   "cell_type": "code",
   "execution_count": 19,
   "metadata": {},
   "outputs": [
    {
     "data": {
      "text/plain": [
       "0.05402827605292422"
      ]
     },
     "execution_count": 19,
     "metadata": {},
     "output_type": "execute_result"
    }
   ],
   "source": [
    "risk_free_rate = 0.005\n",
    "expected_return_japan_capm = risk_free_rate + beta_japan * (expected_return_world - risk_free_rate)\n",
    "expected_return_japan_capm"
   ]
  },
  {
   "cell_type": "markdown",
   "metadata": {},
   "source": [
    "### E(r_world) = 0.0595\n",
    "### Cov(World, Japan) = 0.0178\n",
    "### Var(World) = 0.0198\n",
    "### Beta(Japan) = 0.8995\n",
    "### E(r_Japan) (CAPM) =  0.05453\n",
    "\n",
    "The expected return of JP stock index by Global CAPM is 5.403%, which is close to the real return 5.950%. And JP index's beta is close to 1, so they are corresponding.\n"
   ]
  }
 ],
 "metadata": {
  "kernelspec": {
   "display_name": "base",
   "language": "python",
   "name": "python3"
  },
  "language_info": {
   "codemirror_mode": {
    "name": "ipython",
    "version": 3
   },
   "file_extension": ".py",
   "mimetype": "text/x-python",
   "name": "python",
   "nbconvert_exporter": "python",
   "pygments_lexer": "ipython3",
   "version": "3.10.11"
  }
 },
 "nbformat": 4,
 "nbformat_minor": 2
}
