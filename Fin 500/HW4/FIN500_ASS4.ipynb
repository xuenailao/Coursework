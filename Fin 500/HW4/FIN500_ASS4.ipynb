{
 "cells": [
  {
   "cell_type": "code",
   "execution_count": 81,
   "metadata": {},
   "outputs": [],
   "source": [
    "import pandas as pd\n",
    "import numpy as np\n",
    "import scipy.stats as stats\n",
    "from statsmodels.tsa.stattools import acf\n",
    "import matplotlib.pyplot as plt\n",
    "from scipy.optimize import minimize"
   ]
  },
  {
   "cell_type": "markdown",
   "metadata": {},
   "source": [
    "#### Q1.\n",
    "\n",
    "\n"
   ]
  },
  {
   "cell_type": "code",
   "execution_count": 82,
   "metadata": {},
   "outputs": [
    {
     "data": {
      "text/html": [
       "<div>\n",
       "<style scoped>\n",
       "    .dataframe tbody tr th:only-of-type {\n",
       "        vertical-align: middle;\n",
       "    }\n",
       "\n",
       "    .dataframe tbody tr th {\n",
       "        vertical-align: top;\n",
       "    }\n",
       "\n",
       "    .dataframe thead th {\n",
       "        text-align: right;\n",
       "    }\n",
       "</style>\n",
       "<table border=\"1\" class=\"dataframe\">\n",
       "  <thead>\n",
       "    <tr style=\"text-align: right;\">\n",
       "      <th></th>\n",
       "      <th>CRSP VW</th>\n",
       "      <th>CRSP EW</th>\n",
       "      <th>AAPL</th>\n",
       "      <th>MMM</th>\n",
       "    </tr>\n",
       "    <tr>\n",
       "      <th>Date</th>\n",
       "      <th></th>\n",
       "      <th></th>\n",
       "      <th></th>\n",
       "      <th></th>\n",
       "    </tr>\n",
       "  </thead>\n",
       "  <tbody>\n",
       "    <tr>\n",
       "      <th>1994-12-30</th>\n",
       "      <td>-0.007460</td>\n",
       "      <td>-0.050766</td>\n",
       "      <td>0.352002</td>\n",
       "      <td>0.014955</td>\n",
       "    </tr>\n",
       "    <tr>\n",
       "      <th>1995-12-29</th>\n",
       "      <td>0.356624</td>\n",
       "      <td>0.302198</td>\n",
       "      <td>-0.172954</td>\n",
       "      <td>0.284101</td>\n",
       "    </tr>\n",
       "    <tr>\n",
       "      <th>1996-12-31</th>\n",
       "      <td>0.211739</td>\n",
       "      <td>0.179174</td>\n",
       "      <td>-0.345098</td>\n",
       "      <td>0.332792</td>\n",
       "    </tr>\n",
       "    <tr>\n",
       "      <th>1998-01-30</th>\n",
       "      <td>0.242864</td>\n",
       "      <td>0.146928</td>\n",
       "      <td>0.101505</td>\n",
       "      <td>0.002061</td>\n",
       "    </tr>\n",
       "    <tr>\n",
       "      <th>1998-12-31</th>\n",
       "      <td>0.222445</td>\n",
       "      <td>-0.029128</td>\n",
       "      <td>2.119046</td>\n",
       "      <td>-0.109427</td>\n",
       "    </tr>\n",
       "  </tbody>\n",
       "</table>\n",
       "</div>"
      ],
      "text/plain": [
       "             CRSP VW   CRSP EW      AAPL       MMM\n",
       "Date                                              \n",
       "1994-12-30 -0.007460 -0.050766  0.352002  0.014955\n",
       "1995-12-29  0.356624  0.302198 -0.172954  0.284101\n",
       "1996-12-31  0.211739  0.179174 -0.345098  0.332792\n",
       "1998-01-30  0.242864  0.146928  0.101505  0.002061\n",
       "1998-12-31  0.222445 -0.029128  2.119046 -0.109427"
      ]
     },
     "execution_count": 82,
     "metadata": {},
     "output_type": "execute_result"
    }
   ],
   "source": [
    "df1 = pd.read_excel('./PS4_Q1.xlsx').set_index('Date')\n",
    "df1.head()"
   ]
  },
  {
   "cell_type": "markdown",
   "metadata": {},
   "source": [
    "### a)"
   ]
  },
  {
   "cell_type": "code",
   "execution_count": 83,
   "metadata": {},
   "outputs": [
    {
     "data": {
      "text/html": [
       "<div>\n",
       "<style scoped>\n",
       "    .dataframe tbody tr th:only-of-type {\n",
       "        vertical-align: middle;\n",
       "    }\n",
       "\n",
       "    .dataframe tbody tr th {\n",
       "        vertical-align: top;\n",
       "    }\n",
       "\n",
       "    .dataframe thead th {\n",
       "        text-align: right;\n",
       "    }\n",
       "</style>\n",
       "<table border=\"1\" class=\"dataframe\">\n",
       "  <thead>\n",
       "    <tr style=\"text-align: right;\">\n",
       "      <th></th>\n",
       "      <th>CRSP VW</th>\n",
       "      <th>CRSP EW</th>\n",
       "      <th>AAPL</th>\n",
       "      <th>MMM</th>\n",
       "    </tr>\n",
       "  </thead>\n",
       "  <tbody>\n",
       "    <tr>\n",
       "      <th>count</th>\n",
       "      <td>30.000000</td>\n",
       "      <td>30.000000</td>\n",
       "      <td>30.000000</td>\n",
       "      <td>30.000000</td>\n",
       "    </tr>\n",
       "    <tr>\n",
       "      <th>mean</th>\n",
       "      <td>0.110446</td>\n",
       "      <td>0.117446</td>\n",
       "      <td>0.451342</td>\n",
       "      <td>0.097951</td>\n",
       "    </tr>\n",
       "    <tr>\n",
       "      <th>std</th>\n",
       "      <td>0.181728</td>\n",
       "      <td>0.235106</td>\n",
       "      <td>0.711521</td>\n",
       "      <td>0.213849</td>\n",
       "    </tr>\n",
       "  </tbody>\n",
       "</table>\n",
       "</div>"
      ],
      "text/plain": [
       "         CRSP VW    CRSP EW       AAPL        MMM\n",
       "count  30.000000  30.000000  30.000000  30.000000\n",
       "mean    0.110446   0.117446   0.451342   0.097951\n",
       "std     0.181728   0.235106   0.711521   0.213849"
      ]
     },
     "execution_count": 83,
     "metadata": {},
     "output_type": "execute_result"
    }
   ],
   "source": [
    "df1.describe().head(3)"
   ]
  },
  {
   "cell_type": "markdown",
   "metadata": {},
   "source": [
    "### b)"
   ]
  },
  {
   "cell_type": "code",
   "execution_count": 84,
   "metadata": {},
   "outputs": [
    {
     "data": {
      "text/html": [
       "<div>\n",
       "<style scoped>\n",
       "    .dataframe tbody tr th:only-of-type {\n",
       "        vertical-align: middle;\n",
       "    }\n",
       "\n",
       "    .dataframe tbody tr th {\n",
       "        vertical-align: top;\n",
       "    }\n",
       "\n",
       "    .dataframe thead th {\n",
       "        text-align: right;\n",
       "    }\n",
       "</style>\n",
       "<table border=\"1\" class=\"dataframe\">\n",
       "  <thead>\n",
       "    <tr style=\"text-align: right;\">\n",
       "      <th></th>\n",
       "      <th>CRSP VW</th>\n",
       "      <th>CRSP EW</th>\n",
       "      <th>AAPL</th>\n",
       "      <th>MMM</th>\n",
       "    </tr>\n",
       "  </thead>\n",
       "  <tbody>\n",
       "    <tr>\n",
       "      <th>LowerBound</th>\n",
       "      <td>0.042588</td>\n",
       "      <td>0.029656</td>\n",
       "      <td>0.185656</td>\n",
       "      <td>0.018098</td>\n",
       "    </tr>\n",
       "    <tr>\n",
       "      <th>UpperBound</th>\n",
       "      <td>0.178305</td>\n",
       "      <td>0.205236</td>\n",
       "      <td>0.717029</td>\n",
       "      <td>0.177803</td>\n",
       "    </tr>\n",
       "  </tbody>\n",
       "</table>\n",
       "</div>"
      ],
      "text/plain": [
       "             CRSP VW   CRSP EW      AAPL       MMM\n",
       "LowerBound  0.042588  0.029656  0.185656  0.018098\n",
       "UpperBound  0.178305  0.205236  0.717029  0.177803"
      ]
     },
     "execution_count": 84,
     "metadata": {},
     "output_type": "execute_result"
    }
   ],
   "source": [
    "# without further assumption, I here assume data follow t-distribution\n",
    "ci = df1.apply(lambda x: stats.t.interval(0.95, len(x)-1, loc=x.mean(), scale=stats.sem(x)), axis=0)\n",
    "ci.index = ['LowerBound', 'UpperBound']\n",
    "ci"
   ]
  },
  {
   "cell_type": "markdown",
   "metadata": {},
   "source": [
    "#### Q2."
   ]
  },
  {
   "cell_type": "code",
   "execution_count": 85,
   "metadata": {},
   "outputs": [
    {
     "data": {
      "text/html": [
       "<div>\n",
       "<style scoped>\n",
       "    .dataframe tbody tr th:only-of-type {\n",
       "        vertical-align: middle;\n",
       "    }\n",
       "\n",
       "    .dataframe tbody tr th {\n",
       "        vertical-align: top;\n",
       "    }\n",
       "\n",
       "    .dataframe thead th {\n",
       "        text-align: right;\n",
       "    }\n",
       "</style>\n",
       "<table border=\"1\" class=\"dataframe\">\n",
       "  <thead>\n",
       "    <tr style=\"text-align: right;\">\n",
       "      <th></th>\n",
       "      <th>Return</th>\n",
       "    </tr>\n",
       "    <tr>\n",
       "      <th>Date</th>\n",
       "      <th></th>\n",
       "    </tr>\n",
       "  </thead>\n",
       "  <tbody>\n",
       "    <tr>\n",
       "      <th>2019-09-30</th>\n",
       "      <td>0.005282</td>\n",
       "    </tr>\n",
       "    <tr>\n",
       "      <th>2019-10-02</th>\n",
       "      <td>-0.001902</td>\n",
       "    </tr>\n",
       "    <tr>\n",
       "      <th>2019-10-03</th>\n",
       "      <td>0.002593</td>\n",
       "    </tr>\n",
       "    <tr>\n",
       "      <th>2019-10-04</th>\n",
       "      <td>-0.011141</td>\n",
       "    </tr>\n",
       "    <tr>\n",
       "      <th>2019-10-08</th>\n",
       "      <td>0.002799</td>\n",
       "    </tr>\n",
       "  </tbody>\n",
       "</table>\n",
       "</div>"
      ],
      "text/plain": [
       "              Return\n",
       "Date                \n",
       "2019-09-30  0.005282\n",
       "2019-10-02 -0.001902\n",
       "2019-10-03  0.002593\n",
       "2019-10-04 -0.011141\n",
       "2019-10-08  0.002799"
      ]
     },
     "execution_count": 85,
     "metadata": {},
     "output_type": "execute_result"
    }
   ],
   "source": [
    "df2 = pd.read_excel('./PS4_Q2.xlsx')[['Date', 'Return']].set_index('Date')\n",
    "df2.head()"
   ]
  },
  {
   "cell_type": "markdown",
   "metadata": {},
   "source": [
    "### a)"
   ]
  },
  {
   "cell_type": "code",
   "execution_count": 86,
   "metadata": {},
   "outputs": [
    {
     "data": {
      "text/html": [
       "<div>\n",
       "<style scoped>\n",
       "    .dataframe tbody tr th:only-of-type {\n",
       "        vertical-align: middle;\n",
       "    }\n",
       "\n",
       "    .dataframe tbody tr th {\n",
       "        vertical-align: top;\n",
       "    }\n",
       "\n",
       "    .dataframe thead th {\n",
       "        text-align: right;\n",
       "    }\n",
       "</style>\n",
       "<table border=\"1\" class=\"dataframe\">\n",
       "  <thead>\n",
       "    <tr style=\"text-align: right;\">\n",
       "      <th></th>\n",
       "      <th>1</th>\n",
       "      <th>2</th>\n",
       "      <th>3</th>\n",
       "      <th>4</th>\n",
       "      <th>5</th>\n",
       "      <th>6</th>\n",
       "      <th>7</th>\n",
       "      <th>8</th>\n",
       "      <th>9</th>\n",
       "      <th>10</th>\n",
       "      <th>11</th>\n",
       "      <th>12</th>\n",
       "      <th>13</th>\n",
       "      <th>14</th>\n",
       "      <th>15</th>\n",
       "    </tr>\n",
       "  </thead>\n",
       "  <tbody>\n",
       "    <tr>\n",
       "      <th>Lag</th>\n",
       "      <td>0.008164</td>\n",
       "      <td>-0.033768</td>\n",
       "      <td>-0.029651</td>\n",
       "      <td>0.049816</td>\n",
       "      <td>-0.002313</td>\n",
       "      <td>-0.05948</td>\n",
       "      <td>0.007666</td>\n",
       "      <td>0.028916</td>\n",
       "      <td>-0.030038</td>\n",
       "      <td>0.014689</td>\n",
       "      <td>-0.001935</td>\n",
       "      <td>-0.027914</td>\n",
       "      <td>-0.00854</td>\n",
       "      <td>-0.02632</td>\n",
       "      <td>-0.02354</td>\n",
       "    </tr>\n",
       "  </tbody>\n",
       "</table>\n",
       "</div>"
      ],
      "text/plain": [
       "           1         2         3         4         5        6         7   \\\n",
       "Lag  0.008164 -0.033768 -0.029651  0.049816 -0.002313 -0.05948  0.007666   \n",
       "\n",
       "           8         9         10        11        12       13       14  \\\n",
       "Lag  0.028916 -0.030038  0.014689 -0.001935 -0.027914 -0.00854 -0.02632   \n",
       "\n",
       "          15  \n",
       "Lag -0.02354  "
      ]
     },
     "execution_count": 86,
     "metadata": {},
     "output_type": "execute_result"
    }
   ],
   "source": [
    "autocorrelations = acf(df2, nlags=15)\n",
    "lags = np.arange(1, 16)\n",
    "rou_tau = autocorrelations[1:16]\n",
    "i = list(range(1,16))\n",
    "df_rou_tau = pd.DataFrame([rou_tau])\n",
    "df_rou_tau.columns = i\n",
    "df_rou_tau.index =['Lag']\n",
    "df_rou_tau"
   ]
  },
  {
   "cell_type": "code",
   "execution_count": 87,
   "metadata": {},
   "outputs": [
    {
     "name": "stdout",
     "output_type": "stream",
     "text": [
      "Lag with the largest autocorrelation: 4, Value: 0.04981573551628648\n",
      "Lag with the smallest autocorrelation: 6, Value: -0.05948033466132625\n"
     ]
    }
   ],
   "source": [
    "\n",
    "#Largest and smallest autocorrelation\n",
    "largest_lag = lags[np.argmax(rou_tau)]\n",
    "smallest_lag = lags[np.argmin(rou_tau)]\n",
    "\n",
    "# print(f\"Lag with the largest autocorrelation: {largest_lag}, Value: {max(rou_tau)}\")\n",
    "# print(f\"Lag with the smallest autocorrelation: {smallest_lag}, Value: {min(rou_tau)}\")"
   ]
  },
  {
   "cell_type": "markdown",
   "metadata": {},
   "source": [
    "The daily returns have very little correlation with their past values over these lags."
   ]
  },
  {
   "cell_type": "markdown",
   "metadata": {},
   "source": [
    "### b)"
   ]
  },
  {
   "cell_type": "markdown",
   "metadata": {},
   "source": [
    "#### r^2 Autocorrelation:"
   ]
  },
  {
   "cell_type": "code",
   "execution_count": 88,
   "metadata": {},
   "outputs": [
    {
     "data": {
      "text/html": [
       "<div>\n",
       "<style scoped>\n",
       "    .dataframe tbody tr th:only-of-type {\n",
       "        vertical-align: middle;\n",
       "    }\n",
       "\n",
       "    .dataframe tbody tr th {\n",
       "        vertical-align: top;\n",
       "    }\n",
       "\n",
       "    .dataframe thead th {\n",
       "        text-align: right;\n",
       "    }\n",
       "</style>\n",
       "<table border=\"1\" class=\"dataframe\">\n",
       "  <thead>\n",
       "    <tr style=\"text-align: right;\">\n",
       "      <th></th>\n",
       "      <th>1</th>\n",
       "      <th>2</th>\n",
       "      <th>3</th>\n",
       "      <th>4</th>\n",
       "      <th>5</th>\n",
       "      <th>6</th>\n",
       "      <th>7</th>\n",
       "      <th>8</th>\n",
       "      <th>9</th>\n",
       "      <th>10</th>\n",
       "      <th>11</th>\n",
       "      <th>12</th>\n",
       "      <th>13</th>\n",
       "      <th>14</th>\n",
       "      <th>15</th>\n",
       "    </tr>\n",
       "  </thead>\n",
       "  <tbody>\n",
       "    <tr>\n",
       "      <th>Lag</th>\n",
       "      <td>0.260891</td>\n",
       "      <td>0.211435</td>\n",
       "      <td>0.104203</td>\n",
       "      <td>0.11064</td>\n",
       "      <td>0.083497</td>\n",
       "      <td>0.123918</td>\n",
       "      <td>0.094147</td>\n",
       "      <td>0.102059</td>\n",
       "      <td>0.05201</td>\n",
       "      <td>0.074401</td>\n",
       "      <td>-0.005973</td>\n",
       "      <td>0.050352</td>\n",
       "      <td>0.055185</td>\n",
       "      <td>0.129214</td>\n",
       "      <td>-0.010453</td>\n",
       "    </tr>\n",
       "  </tbody>\n",
       "</table>\n",
       "</div>"
      ],
      "text/plain": [
       "           1         2         3        4         5         6         7   \\\n",
       "Lag  0.260891  0.211435  0.104203  0.11064  0.083497  0.123918  0.094147   \n",
       "\n",
       "           8        9         10        11        12        13        14  \\\n",
       "Lag  0.102059  0.05201  0.074401 -0.005973  0.050352  0.055185  0.129214   \n",
       "\n",
       "           15  \n",
       "Lag -0.010453  "
      ]
     },
     "execution_count": 88,
     "metadata": {},
     "output_type": "execute_result"
    }
   ],
   "source": [
    "autocorrelations_squared = acf(df2**2, nlags=15)\n",
    "lags = np.arange(1, 16)\n",
    "rou_tau_squared = autocorrelations_squared[1:16]\n",
    "i = list(range(1,16))\n",
    "df_rou_tau_squared = pd.DataFrame([rou_tau_squared])\n",
    "df_rou_tau_squared.columns = i\n",
    "df_rou_tau_squared.index =['Lag']\n",
    "df_rou_tau_squared"
   ]
  },
  {
   "cell_type": "markdown",
   "metadata": {},
   "source": [
    "#### |r| Autocorrelation:"
   ]
  },
  {
   "cell_type": "code",
   "execution_count": 89,
   "metadata": {},
   "outputs": [
    {
     "data": {
      "text/html": [
       "<div>\n",
       "<style scoped>\n",
       "    .dataframe tbody tr th:only-of-type {\n",
       "        vertical-align: middle;\n",
       "    }\n",
       "\n",
       "    .dataframe tbody tr th {\n",
       "        vertical-align: top;\n",
       "    }\n",
       "\n",
       "    .dataframe thead th {\n",
       "        text-align: right;\n",
       "    }\n",
       "</style>\n",
       "<table border=\"1\" class=\"dataframe\">\n",
       "  <thead>\n",
       "    <tr style=\"text-align: right;\">\n",
       "      <th></th>\n",
       "      <th>1</th>\n",
       "      <th>2</th>\n",
       "      <th>3</th>\n",
       "      <th>4</th>\n",
       "      <th>5</th>\n",
       "      <th>6</th>\n",
       "      <th>7</th>\n",
       "      <th>8</th>\n",
       "      <th>9</th>\n",
       "      <th>10</th>\n",
       "      <th>11</th>\n",
       "      <th>12</th>\n",
       "      <th>13</th>\n",
       "      <th>14</th>\n",
       "      <th>15</th>\n",
       "    </tr>\n",
       "  </thead>\n",
       "  <tbody>\n",
       "    <tr>\n",
       "      <th>Lag</th>\n",
       "      <td>0.099666</td>\n",
       "      <td>0.161714</td>\n",
       "      <td>0.104316</td>\n",
       "      <td>0.131333</td>\n",
       "      <td>0.068538</td>\n",
       "      <td>0.144569</td>\n",
       "      <td>0.080757</td>\n",
       "      <td>0.10786</td>\n",
       "      <td>0.029634</td>\n",
       "      <td>0.089132</td>\n",
       "      <td>0.00826</td>\n",
       "      <td>0.049854</td>\n",
       "      <td>0.059805</td>\n",
       "      <td>0.102908</td>\n",
       "      <td>0.008586</td>\n",
       "    </tr>\n",
       "  </tbody>\n",
       "</table>\n",
       "</div>"
      ],
      "text/plain": [
       "           1         2         3         4         5         6         7   \\\n",
       "Lag  0.099666  0.161714  0.104316  0.131333  0.068538  0.144569  0.080757   \n",
       "\n",
       "          8         9         10       11        12        13        14  \\\n",
       "Lag  0.10786  0.029634  0.089132  0.00826  0.049854  0.059805  0.102908   \n",
       "\n",
       "           15  \n",
       "Lag  0.008586  "
      ]
     },
     "execution_count": 89,
     "metadata": {},
     "output_type": "execute_result"
    }
   ],
   "source": [
    "autocorrelations_abs = acf(np.abs(df2), nlags=15)\n",
    "lags = np.arange(1, 16)\n",
    "rou_tau_abs = autocorrelations_abs[1:16]\n",
    "i = list(range(1,16))\n",
    "df_rou_tau_abs = pd.DataFrame([rou_tau_abs])\n",
    "df_rou_tau_abs.columns = i\n",
    "df_rou_tau_abs.index =['Lag']\n",
    "df_rou_tau_abs"
   ]
  },
  {
   "cell_type": "markdown",
   "metadata": {},
   "source": [
    "Lag 1 of squared return is 0.260891, which is significantly higher than any of the rest's autocorrelations. \n",
    "\n",
    "Lag 2 (0.161714) and lag 6 (0.144569) of absolute return show moderate autocorrelation, indicating persistence in the magnitude of returns.\n",
    "\n",
    "These show the volatility cluster, maybe the returns are not i.i.d"
   ]
  },
  {
   "cell_type": "markdown",
   "metadata": {},
   "source": [
    "### c)"
   ]
  },
  {
   "cell_type": "code",
   "execution_count": 138,
   "metadata": {},
   "outputs": [
    {
     "name": "stdout",
     "output_type": "stream",
     "text": [
      "The 99% CI is [-0.07353266807717379, 0.07353266807717379]\n"
     ]
    }
   ],
   "source": [
    "n = len(df2)\n",
    "r = autocorrelations[1]\n",
    "\n",
    "z_alpha = stats.norm.ppf(1 - (1 - 0.99) / 2)\n",
    "standard_error = np.sqrt((1 - r**2) / (n - 2))\n",
    "lower_limit = ( - z_alpha * standard_error)\n",
    "upper_limit = ( + z_alpha * standard_error)\n",
    "print(f'The 99% CI is [{lower_limit}, {upper_limit}]')"
   ]
  },
  {
   "cell_type": "markdown",
   "metadata": {},
   "source": [
    "$$r \\sim N\\left(0, \\sqrt{\\frac{1 - r^2}{n - 2}}\\right)$$\n",
    "$$-0.07353 \\leq \\frac{r}{\\sqrt{1 - r^2}} \\leq 0.073533$$"
   ]
  },
  {
   "cell_type": "markdown",
   "metadata": {},
   "source": [
    "From the calculation above, we have at least 99% confidence to say the returns are i.i.d"
   ]
  },
  {
   "cell_type": "markdown",
   "metadata": {},
   "source": [
    "### d)"
   ]
  },
  {
   "cell_type": "code",
   "execution_count": 139,
   "metadata": {},
   "outputs": [
    {
     "name": "stdout",
     "output_type": "stream",
     "text": [
      "The 99% CI is [-0.0709884705193573, 0.0709884705193573]\n"
     ]
    }
   ],
   "source": [
    "n = len(df2)\n",
    "r = autocorrelations_squared[1]\n",
    "\n",
    "z_alpha = stats.norm.ppf(1 - (1 - 0.99) / 2)\n",
    "standard_error = np.sqrt((1 - r**2) / (n - 2))\n",
    "lower_limit = (- z_alpha * standard_error)\n",
    "upper_limit = (+ z_alpha * standard_error)\n",
    "print(f'The 99% CI is [{lower_limit}, {upper_limit}]')"
   ]
  },
  {
   "cell_type": "markdown",
   "metadata": {},
   "source": [
    "$$-0.070988 \\leq \\frac{r}{\\sqrt{1 - r^2}} \\leq 0.070988$$"
   ]
  },
  {
   "cell_type": "markdown",
   "metadata": {},
   "source": [
    "Since the correlation is significantly high, I think the lag 1 squared returns are not i.i.d"
   ]
  },
  {
   "cell_type": "markdown",
   "metadata": {},
   "source": [
    "### e)"
   ]
  },
  {
   "cell_type": "code",
   "execution_count": 92,
   "metadata": {},
   "outputs": [
    {
     "name": "stdout",
     "output_type": "stream",
     "text": [
      "The 99% CI is [4.60091557172734, 32.80132064579183]\n"
     ]
    }
   ],
   "source": [
    "k = 15\n",
    "alpha =0.01\n",
    "lower_bound = stats.chi2.ppf(alpha / 2, df=k)\n",
    "upper_bound = stats.chi2.ppf(1 - alpha / 2, df=k)\n",
    "print(f'The 99% CI is [{lower_bound}, {upper_bound}]')"
   ]
  },
  {
   "cell_type": "markdown",
   "metadata": {},
   "source": [
    "$$4.60092 \\leq Q_{k} \\leq 32.80132$$"
   ]
  },
  {
   "cell_type": "markdown",
   "metadata": {},
   "source": [
    "### f)"
   ]
  },
  {
   "cell_type": "code",
   "execution_count": 135,
   "metadata": {},
   "outputs": [
    {
     "name": "stdout",
     "output_type": "stream",
     "text": [
      "returns Ljung-Boxs Q:  15.02659437805856\n"
     ]
    }
   ],
   "source": [
    "Q_r = n*np.sum(autocorrelations[1:]**2)\n",
    "print('returns Ljung-Boxs Q: ', Q_r)"
   ]
  },
  {
   "cell_type": "markdown",
   "metadata": {},
   "source": [
    "The estimate of Qk for returns falls in this confidence interval"
   ]
  },
  {
   "cell_type": "code",
   "execution_count": 136,
   "metadata": {},
   "outputs": [
    {
     "name": "stdout",
     "output_type": "stream",
     "text": [
      "returns Ljung-Boxs Q:  255.80134469532626\n"
     ]
    }
   ],
   "source": [
    "Q_r = n*np.sum(autocorrelations_squared[1:]**2)\n",
    "print('returns Ljung-Boxs Q: ', Q_r)"
   ]
  },
  {
   "cell_type": "markdown",
   "metadata": {},
   "source": [
    "The estimate of Qk for returns does not fall in this confidence interval"
   ]
  },
  {
   "cell_type": "code",
   "execution_count": 137,
   "metadata": {},
   "outputs": [
    {
     "name": "stdout",
     "output_type": "stream",
     "text": [
      "returns Ljung-Boxs Q:  164.17590105647722\n"
     ]
    }
   ],
   "source": [
    "Q_r = n*np.sum(autocorrelations_abs[1:]**2)\n",
    "print('returns Ljung-Boxs Q: ', Q_r)"
   ]
  },
  {
   "cell_type": "markdown",
   "metadata": {},
   "source": [
    "The estimate of Qk for returns does not fall in this confidence interval"
   ]
  },
  {
   "cell_type": "markdown",
   "metadata": {},
   "source": [
    "### g)"
   ]
  },
  {
   "cell_type": "markdown",
   "metadata": {},
   "source": [
    "From above, the returns do not follow the assumption of i.i.d"
   ]
  },
  {
   "cell_type": "markdown",
   "metadata": {},
   "source": [
    "#### Q3."
   ]
  },
  {
   "cell_type": "code",
   "execution_count": 96,
   "metadata": {},
   "outputs": [],
   "source": [
    "p = np.array([0.1, 0.8, 0.1])\n",
    "r_A = np.array([-1.0, 0.5, 0.5])\n",
    "r_B = np.array([0.15, 0.15, 1.65])"
   ]
  },
  {
   "cell_type": "markdown",
   "metadata": {},
   "source": [
    "### a)"
   ]
  },
  {
   "cell_type": "code",
   "execution_count": 97,
   "metadata": {},
   "outputs": [
    {
     "name": "stdout",
     "output_type": "stream",
     "text": [
      "mean of A is 0.35, variance of A is 0.2025\n",
      "mean of B is 0.3, variance of A is 0.2025\n",
      "covariance between A and B: 0.0225\n"
     ]
    }
   ],
   "source": [
    "mean_A = np.sum(p * r_A)\n",
    "mean_B = np.sum(p * r_B)\n",
    "cov = np.sum(p * r_A * r_B) - mean_A * mean_B\n",
    "var_A = np.sum(p * ((r_A-mean_A) **2))\n",
    "var_B = np.sum(p * ((r_B-mean_B) **2))\n",
    "print(f'mean of A is {round(mean_A,4)}, variance of A is {round(var_A,4)}')\n",
    "print(f'mean of B is {round(mean_B,4)}, variance of A is {round(var_B,4)}')\n",
    "print(f'covariance between A and B: {round(cov,4)}')"
   ]
  },
  {
   "cell_type": "markdown",
   "metadata": {},
   "source": [
    "### b)"
   ]
  },
  {
   "cell_type": "code",
   "execution_count": 98,
   "metadata": {},
   "outputs": [
    {
     "data": {
      "text/html": [
       "<div>\n",
       "<style scoped>\n",
       "    .dataframe tbody tr th:only-of-type {\n",
       "        vertical-align: middle;\n",
       "    }\n",
       "\n",
       "    .dataframe tbody tr th {\n",
       "        vertical-align: top;\n",
       "    }\n",
       "\n",
       "    .dataframe thead th {\n",
       "        text-align: right;\n",
       "    }\n",
       "</style>\n",
       "<table border=\"1\" class=\"dataframe\">\n",
       "  <thead>\n",
       "    <tr style=\"text-align: right;\">\n",
       "      <th></th>\n",
       "      <th>0</th>\n",
       "      <th>1</th>\n",
       "      <th>2</th>\n",
       "      <th>3</th>\n",
       "      <th>4</th>\n",
       "      <th>5</th>\n",
       "      <th>6</th>\n",
       "      <th>7</th>\n",
       "      <th>8</th>\n",
       "      <th>9</th>\n",
       "      <th>...</th>\n",
       "      <th>291</th>\n",
       "      <th>292</th>\n",
       "      <th>293</th>\n",
       "      <th>294</th>\n",
       "      <th>295</th>\n",
       "      <th>296</th>\n",
       "      <th>297</th>\n",
       "      <th>298</th>\n",
       "      <th>299</th>\n",
       "      <th>300</th>\n",
       "    </tr>\n",
       "  </thead>\n",
       "  <tbody>\n",
       "    <tr>\n",
       "      <th>μ</th>\n",
       "      <td>0.250000</td>\n",
       "      <td>0.250500</td>\n",
       "      <td>0.251000</td>\n",
       "      <td>0.251500</td>\n",
       "      <td>0.252000</td>\n",
       "      <td>0.252500</td>\n",
       "      <td>0.25300</td>\n",
       "      <td>0.25350</td>\n",
       "      <td>0.254000</td>\n",
       "      <td>0.254500</td>\n",
       "      <td>...</td>\n",
       "      <td>0.395500</td>\n",
       "      <td>0.396000</td>\n",
       "      <td>0.39650</td>\n",
       "      <td>0.39700</td>\n",
       "      <td>0.397500</td>\n",
       "      <td>0.398000</td>\n",
       "      <td>0.398500</td>\n",
       "      <td>0.399000</td>\n",
       "      <td>0.399500</td>\n",
       "      <td>0.400000</td>\n",
       "    </tr>\n",
       "    <tr>\n",
       "      <th>σ</th>\n",
       "      <td>0.960469</td>\n",
       "      <td>0.954849</td>\n",
       "      <td>0.949233</td>\n",
       "      <td>0.943623</td>\n",
       "      <td>0.938017</td>\n",
       "      <td>0.932416</td>\n",
       "      <td>0.92682</td>\n",
       "      <td>0.92123</td>\n",
       "      <td>0.915644</td>\n",
       "      <td>0.910064</td>\n",
       "      <td>...</td>\n",
       "      <td>0.910064</td>\n",
       "      <td>0.915644</td>\n",
       "      <td>0.92123</td>\n",
       "      <td>0.92682</td>\n",
       "      <td>0.932416</td>\n",
       "      <td>0.938017</td>\n",
       "      <td>0.943623</td>\n",
       "      <td>0.949233</td>\n",
       "      <td>0.954849</td>\n",
       "      <td>0.960469</td>\n",
       "    </tr>\n",
       "    <tr>\n",
       "      <th>w_A</th>\n",
       "      <td>-1.000000</td>\n",
       "      <td>-0.990000</td>\n",
       "      <td>-0.980000</td>\n",
       "      <td>-0.970000</td>\n",
       "      <td>-0.960000</td>\n",
       "      <td>-0.950000</td>\n",
       "      <td>-0.94000</td>\n",
       "      <td>-0.93000</td>\n",
       "      <td>-0.920000</td>\n",
       "      <td>-0.910000</td>\n",
       "      <td>...</td>\n",
       "      <td>1.910000</td>\n",
       "      <td>1.920000</td>\n",
       "      <td>1.93000</td>\n",
       "      <td>1.94000</td>\n",
       "      <td>1.950000</td>\n",
       "      <td>1.960000</td>\n",
       "      <td>1.970000</td>\n",
       "      <td>1.980000</td>\n",
       "      <td>1.990000</td>\n",
       "      <td>2.000000</td>\n",
       "    </tr>\n",
       "  </tbody>\n",
       "</table>\n",
       "<p>3 rows × 301 columns</p>\n",
       "</div>"
      ],
      "text/plain": [
       "          0         1         2         3         4         5        6    \\\n",
       "μ    0.250000  0.250500  0.251000  0.251500  0.252000  0.252500  0.25300   \n",
       "σ    0.960469  0.954849  0.949233  0.943623  0.938017  0.932416  0.92682   \n",
       "w_A -1.000000 -0.990000 -0.980000 -0.970000 -0.960000 -0.950000 -0.94000   \n",
       "\n",
       "         7         8         9    ...       291       292      293      294  \\\n",
       "μ    0.25350  0.254000  0.254500  ...  0.395500  0.396000  0.39650  0.39700   \n",
       "σ    0.92123  0.915644  0.910064  ...  0.910064  0.915644  0.92123  0.92682   \n",
       "w_A -0.93000 -0.920000 -0.910000  ...  1.910000  1.920000  1.93000  1.94000   \n",
       "\n",
       "          295       296       297       298       299       300  \n",
       "μ    0.397500  0.398000  0.398500  0.399000  0.399500  0.400000  \n",
       "σ    0.932416  0.938017  0.943623  0.949233  0.954849  0.960469  \n",
       "w_A  1.950000  1.960000  1.970000  1.980000  1.990000  2.000000  \n",
       "\n",
       "[3 rows x 301 columns]"
      ]
     },
     "execution_count": 98,
     "metadata": {},
     "output_type": "execute_result"
    }
   ],
   "source": [
    "w_A = np.arange(-1, 2.01, 0.01)\n",
    "w_B = 1 - w_A\n",
    "\n",
    "mean_p = w_A * mean_A + w_B * mean_B\n",
    "std_p = np.sqrt(w_A**2 * var_A + w_B**2 * var_B + 2 * w_A * w_B * cov)\n",
    "df3 = pd.DataFrame([mean_p, std_p, w_A])\n",
    "df3.index = ['μ','σ', 'w_A']\n",
    "df3"
   ]
  },
  {
   "cell_type": "code",
   "execution_count": 133,
   "metadata": {},
   "outputs": [
    {
     "data": {
      "image/png": "[encoded data removed]",
      "text/plain": [
       "<Figure size 640x480 with 1 Axes>"
      ]
     },
     "metadata": {},
     "output_type": "display_data"
    }
   ],
   "source": [
    "plt.plot(std_p, mean_p)\n",
    "plt.xlabel('std of portfolio')\n",
    "plt.ylabel('mean return of portfolio')\n",
    "plt.show()"
   ]
  },
  {
   "cell_type": "markdown",
   "metadata": {},
   "source": [
    "### c)"
   ]
  },
  {
   "cell_type": "code",
   "execution_count": 121,
   "metadata": {},
   "outputs": [
    {
     "data": {
      "image/png": "[encoded data removed]",
      "text/plain": [
       "<Figure size 640x480 with 1 Axes>"
      ]
     },
     "metadata": {},
     "output_type": "display_data"
    }
   ],
   "source": [
    "plt.plot(mean_p, std_p, label='Mean-Variance Combinations')\n",
    "plt.plot(mean_p[150:], std_p[150:], color='green', label = 'Mean-Variance Efficient Set')\n",
    "plt.xlabel('mean return of portfolio')\n",
    "plt.ylabel('std of portfolio')\n",
    "plt.xlim([0.24,0.42])\n",
    "plt.legend()\n",
    "plt.show()"
   ]
  },
  {
   "cell_type": "markdown",
   "metadata": {},
   "source": [
    "### d)"
   ]
  },
  {
   "cell_type": "code",
   "execution_count": 102,
   "metadata": {},
   "outputs": [
    {
     "data": {
      "text/html": [
       "<div>\n",
       "<style scoped>\n",
       "    .dataframe tbody tr th:only-of-type {\n",
       "        vertical-align: middle;\n",
       "    }\n",
       "\n",
       "    .dataframe tbody tr th {\n",
       "        vertical-align: top;\n",
       "    }\n",
       "\n",
       "    .dataframe thead th {\n",
       "        text-align: right;\n",
       "    }\n",
       "</style>\n",
       "<table border=\"1\" class=\"dataframe\">\n",
       "  <thead>\n",
       "    <tr style=\"text-align: right;\">\n",
       "      <th></th>\n",
       "      <th>μ</th>\n",
       "      <th>σ</th>\n",
       "      <th>w_A</th>\n",
       "    </tr>\n",
       "  </thead>\n",
       "  <tbody>\n",
       "    <tr>\n",
       "      <th>300</th>\n",
       "      <td>0.4000</td>\n",
       "      <td>0.960469</td>\n",
       "      <td>2.00</td>\n",
       "    </tr>\n",
       "    <tr>\n",
       "      <th>299</th>\n",
       "      <td>0.3995</td>\n",
       "      <td>0.954849</td>\n",
       "      <td>1.99</td>\n",
       "    </tr>\n",
       "    <tr>\n",
       "      <th>298</th>\n",
       "      <td>0.3990</td>\n",
       "      <td>0.949233</td>\n",
       "      <td>1.98</td>\n",
       "    </tr>\n",
       "    <tr>\n",
       "      <th>297</th>\n",
       "      <td>0.3985</td>\n",
       "      <td>0.943623</td>\n",
       "      <td>1.97</td>\n",
       "    </tr>\n",
       "    <tr>\n",
       "      <th>296</th>\n",
       "      <td>0.3980</td>\n",
       "      <td>0.938017</td>\n",
       "      <td>1.96</td>\n",
       "    </tr>\n",
       "    <tr>\n",
       "      <th>...</th>\n",
       "      <td>...</td>\n",
       "      <td>...</td>\n",
       "      <td>...</td>\n",
       "    </tr>\n",
       "    <tr>\n",
       "      <th>4</th>\n",
       "      <td>0.2520</td>\n",
       "      <td>0.938017</td>\n",
       "      <td>-0.96</td>\n",
       "    </tr>\n",
       "    <tr>\n",
       "      <th>3</th>\n",
       "      <td>0.2515</td>\n",
       "      <td>0.943623</td>\n",
       "      <td>-0.97</td>\n",
       "    </tr>\n",
       "    <tr>\n",
       "      <th>2</th>\n",
       "      <td>0.2510</td>\n",
       "      <td>0.949233</td>\n",
       "      <td>-0.98</td>\n",
       "    </tr>\n",
       "    <tr>\n",
       "      <th>1</th>\n",
       "      <td>0.2505</td>\n",
       "      <td>0.954849</td>\n",
       "      <td>-0.99</td>\n",
       "    </tr>\n",
       "    <tr>\n",
       "      <th>0</th>\n",
       "      <td>0.2500</td>\n",
       "      <td>0.960469</td>\n",
       "      <td>-1.00</td>\n",
       "    </tr>\n",
       "  </tbody>\n",
       "</table>\n",
       "<p>301 rows × 3 columns</p>\n",
       "</div>"
      ],
      "text/plain": [
       "          μ         σ   w_A\n",
       "300  0.4000  0.960469  2.00\n",
       "299  0.3995  0.954849  1.99\n",
       "298  0.3990  0.949233  1.98\n",
       "297  0.3985  0.943623  1.97\n",
       "296  0.3980  0.938017  1.96\n",
       "..      ...       ...   ...\n",
       "4    0.2520  0.938017 -0.96\n",
       "3    0.2515  0.943623 -0.97\n",
       "2    0.2510  0.949233 -0.98\n",
       "1    0.2505  0.954849 -0.99\n",
       "0    0.2500  0.960469 -1.00\n",
       "\n",
       "[301 rows x 3 columns]"
      ]
     },
     "execution_count": 102,
     "metadata": {},
     "output_type": "execute_result"
    }
   ],
   "source": [
    "tmp = df3.transpose().sort_values('μ',ascending= False)\n",
    "tmp"
   ]
  },
  {
   "cell_type": "markdown",
   "metadata": {},
   "source": [
    "A and B have the same variance, while A has larger mean. The efficient frontier of the mean-variance plot is always the upper half of the curve. We can see from the data frame, there is always a larger weighted A in the portfolio because it is safer and gains more. Therefore, B is mean-variance dominated by A."
   ]
  },
  {
   "cell_type": "markdown",
   "metadata": {},
   "source": [
    "#### Q4."
   ]
  },
  {
   "cell_type": "markdown",
   "metadata": {},
   "source": [
    "### a)"
   ]
  },
  {
   "cell_type": "code",
   "execution_count": 103,
   "metadata": {},
   "outputs": [
    {
     "data": {
      "text/html": [
       "<div>\n",
       "<style scoped>\n",
       "    .dataframe tbody tr th:only-of-type {\n",
       "        vertical-align: middle;\n",
       "    }\n",
       "\n",
       "    .dataframe tbody tr th {\n",
       "        vertical-align: top;\n",
       "    }\n",
       "\n",
       "    .dataframe thead th {\n",
       "        text-align: right;\n",
       "    }\n",
       "</style>\n",
       "<table border=\"1\" class=\"dataframe\">\n",
       "  <thead>\n",
       "    <tr style=\"text-align: right;\">\n",
       "      <th></th>\n",
       "      <th>Fairfield Sentry (a Madoff \"feeder fund\")</th>\n",
       "      <th>S&amp;P 500 Index (w/dividends reinvested)</th>\n",
       "      <th>NYSE value-weighted        (w/dividends reinvested)</th>\n",
       "      <th>NASDAQ value-weighted        (w/dividends reinvested)</th>\n",
       "      <th>NYSE small stocks (mkt. cap. decile 1)</th>\n",
       "      <th>NYSE large stocks (mkt. cap. decile 10)</th>\n",
       "      <th>HFRI Equity Market Neutral Index</th>\n",
       "      <th>HFRI Fixed Income: High Yield Index</th>\n",
       "      <th>1-month LIBOR          (per month)</th>\n",
       "      <th>Fairfield Sentry Excess Return</th>\n",
       "      <th>S&amp;P 500 Excess Return</th>\n",
       "    </tr>\n",
       "  </thead>\n",
       "  <tbody>\n",
       "    <tr>\n",
       "      <th>count</th>\n",
       "      <td>174.000000</td>\n",
       "      <td>174.000000</td>\n",
       "      <td>174.000000</td>\n",
       "      <td>174.000000</td>\n",
       "      <td>174.000000</td>\n",
       "      <td>174.000000</td>\n",
       "      <td>174.000000</td>\n",
       "      <td>174.000000</td>\n",
       "      <td>174.000000</td>\n",
       "      <td>174.000000</td>\n",
       "      <td>174.000000</td>\n",
       "    </tr>\n",
       "    <tr>\n",
       "      <th>mean</th>\n",
       "      <td>0.009559</td>\n",
       "      <td>0.008382</td>\n",
       "      <td>0.010245</td>\n",
       "      <td>0.013109</td>\n",
       "      <td>0.015647</td>\n",
       "      <td>0.009677</td>\n",
       "      <td>0.007175</td>\n",
       "      <td>0.009132</td>\n",
       "      <td>0.003492</td>\n",
       "      <td>0.006067</td>\n",
       "      <td>0.004890</td>\n",
       "    </tr>\n",
       "    <tr>\n",
       "      <th>std</th>\n",
       "      <td>0.007570</td>\n",
       "      <td>0.040907</td>\n",
       "      <td>0.037170</td>\n",
       "      <td>0.073916</td>\n",
       "      <td>0.048519</td>\n",
       "      <td>0.038178</td>\n",
       "      <td>0.009301</td>\n",
       "      <td>0.015679</td>\n",
       "      <td>0.001507</td>\n",
       "      <td>0.007326</td>\n",
       "      <td>0.040763</td>\n",
       "    </tr>\n",
       "  </tbody>\n",
       "</table>\n",
       "</div>"
      ],
      "text/plain": [
       "       Fairfield Sentry (a Madoff \"feeder fund\")  \\\n",
       "count                                 174.000000   \n",
       "mean                                    0.009559   \n",
       "std                                     0.007570   \n",
       "\n",
       "       S&P 500 Index (w/dividends reinvested)  \\\n",
       "count                              174.000000   \n",
       "mean                                 0.008382   \n",
       "std                                  0.040907   \n",
       "\n",
       "       NYSE value-weighted        (w/dividends reinvested)  \\\n",
       "count                                         174.000000     \n",
       "mean                                            0.010245     \n",
       "std                                             0.037170     \n",
       "\n",
       "       NASDAQ value-weighted        (w/dividends reinvested)  \\\n",
       "count                                         174.000000       \n",
       "mean                                            0.013109       \n",
       "std                                             0.073916       \n",
       "\n",
       "       NYSE small stocks (mkt. cap. decile 1)  \\\n",
       "count                              174.000000   \n",
       "mean                                 0.015647   \n",
       "std                                  0.048519   \n",
       "\n",
       "       NYSE large stocks (mkt. cap. decile 10)  \\\n",
       "count                               174.000000   \n",
       "mean                                  0.009677   \n",
       "std                                   0.038178   \n",
       "\n",
       "       HFRI Equity Market Neutral Index  HFRI Fixed Income: High Yield Index  \\\n",
       "count                        174.000000                           174.000000   \n",
       "mean                           0.007175                             0.009132   \n",
       "std                            0.009301                             0.015679   \n",
       "\n",
       "       1-month LIBOR          (per month)  Fairfield Sentry Excess Return  \\\n",
       "count                          174.000000                      174.000000   \n",
       "mean                             0.003492                        0.006067   \n",
       "std                              0.001507                        0.007326   \n",
       "\n",
       "       S&P 500 Excess Return  \n",
       "count             174.000000  \n",
       "mean                0.004890  \n",
       "std                 0.040763  "
      ]
     },
     "execution_count": 103,
     "metadata": {},
     "output_type": "execute_result"
    }
   ],
   "source": [
    "df4 = pd.read_excel('./PS4_Q4.xls', index_col= 0,header = 1)\n",
    "del df4['Unnamed: 10']\n",
    "df4.describe().head(3)"
   ]
  },
  {
   "cell_type": "code",
   "execution_count": 104,
   "metadata": {},
   "outputs": [
    {
     "name": "stdout",
     "output_type": "stream",
     "text": [
      "the correlation ρ is 0.30132633724872726\n"
     ]
    }
   ],
   "source": [
    "corr = df4['Fairfield Sentry (a Madoff \"feeder fund\")'].corr(df4['S&P 500 Index (w/dividends reinvested)'])\n",
    "print(f'the correlation ρ is {corr}')"
   ]
  },
  {
   "cell_type": "markdown",
   "metadata": {},
   "source": [
    "### b)"
   ]
  },
  {
   "cell_type": "code",
   "execution_count": 105,
   "metadata": {},
   "outputs": [],
   "source": [
    "def mean_var(mean_A, mean_B, std_A, std_B, corr):\n",
    "    w_A = np.arange(-1, 2.01, 0.01)\n",
    "    w_B = 1 - w_A\n",
    "\n",
    "    mean_p = w_A * mean_A + w_B * mean_B\n",
    "    std_p = np.sqrt(w_A**2 * std_A**2 + w_B**2 * std_B**2 + 2 * w_A * w_B * std_A * std_B *corr)\n",
    "    return mean_p, std_p"
   ]
  },
  {
   "cell_type": "code",
   "execution_count": 106,
   "metadata": {},
   "outputs": [],
   "source": [
    "security1 = 'Fairfield Sentry (a Madoff \"feeder fund\")'\n",
    "mean_fs = df4.describe()[security1].iloc[1]\n",
    "std_fs = df4.describe()[security1].iloc[2]\n",
    "\n",
    "security2 = 'S&P 500 Index (w/dividends reinvested)'\n",
    "mean_sp = df4.describe()[security2].iloc[1]\n",
    "std_sp = df4.describe()[security2].iloc[2]\n",
    "\n",
    "rf = 0.0033"
   ]
  },
  {
   "cell_type": "code",
   "execution_count": 107,
   "metadata": {},
   "outputs": [
    {
     "data": {
      "image/png": "[encoded data removed]",
      "text/plain": [
       "<Figure size 640x480 with 1 Axes>"
      ]
     },
     "metadata": {},
     "output_type": "display_data"
    }
   ],
   "source": [
    "mean_p1, std_p1 = mean_var(mean_fs, rf, std_fs, 0, 0)\n",
    "mean_p2, std_p2 = mean_var(mean_sp, rf, std_sp, 0, 0)\n",
    "plt.plot(std_p1, mean_p1, label = 'FS', )\n",
    "plt.plot(std_p2, mean_p2, label = 'S&P500')\n",
    "plt.xlabel('std of portfolio')\n",
    "plt.ylabel('mean return of portfolio')\n",
    "plt.title('mean-variance plot')\n",
    "plt.legend()\n",
    "plt.show()"
   ]
  },
  {
   "cell_type": "markdown",
   "metadata": {},
   "source": [
    "### c)"
   ]
  },
  {
   "cell_type": "code",
   "execution_count": 108,
   "metadata": {},
   "outputs": [],
   "source": [
    "def neg_sharpe(param, mean_A, mean_B, std_A, std_B, corr):\n",
    "    rf = 0.0033\n",
    "    mean_p = param * mean_A + (1-param) * mean_B\n",
    "    std_p = np.sqrt(param**2 * std_A**2 + (1-param)**2 * std_B**2 + 2 * param * (1-param) * std_A * std_B *corr)\n",
    "    sharpe_ratio = (mean_p-rf)/std_p\n",
    "    return -sharpe_ratio"
   ]
  },
  {
   "cell_type": "code",
   "execution_count": 109,
   "metadata": {},
   "outputs": [
    {
     "name": "stdout",
     "output_type": "stream",
     "text": [
      "Optimal weight of Fairfield Sentry is 1.030240648822359, and optimal weight of S&P 500 Index is -0.030240648822358995\n"
     ]
    }
   ],
   "source": [
    "initial_param = 0.5\n",
    "bounds = [(-1, 2)]\n",
    "\n",
    "result = minimize(neg_sharpe, initial_param, args=(mean_fs, mean_sp, std_fs, std_sp, corr), \n",
    "                  method='SLSQP', bounds=bounds)\n",
    "print(f'Optimal weight of Fairfield Sentry is {float(result.x[0])}, and optimal weight of S&P 500 Index is {1- float(result.x[0])}' )"
   ]
  },
  {
   "cell_type": "markdown",
   "metadata": {},
   "source": [
    "### d)"
   ]
  },
  {
   "cell_type": "code",
   "execution_count": 110,
   "metadata": {},
   "outputs": [
    {
     "data": {
      "image/png": "[encoded data removed]",
      "text/plain": [
       "<Figure size 1000x600 with 1 Axes>"
      ]
     },
     "metadata": {},
     "output_type": "display_data"
    }
   ],
   "source": [
    "def optimal_portfolio(w, mean_fs, mean_sp, std_fs, std_sp):\n",
    "    mean_p = w * mean_fs + (1 - w) * mean_sp\n",
    "    std_p = np.sqrt(w**2 * std_fs**2 + (1 - w)**2 * std_sp**2 + 2 * w * (1 - w) * corr * std_fs * std_sp)\n",
    "    return mean_p, std_p\n",
    "\n",
    "optimal_mean, optimal_std = optimal_portfolio(float(result.x[0]), mean_fs, mean_sp, std_fs, std_sp)\n",
    "port_means, port_stds = mean_var(mean_fs, mean_sp, std_fs, std_sp, corr)\n",
    "\n",
    "cml_x = np.linspace(0, max(port_stds), 100)\n",
    "cml_y = rf + (optimal_mean - rf) / optimal_std * cml_x\n",
    "\n",
    "plt.figure(figsize=(10, 6))\n",
    "plt.plot(port_stds, port_means, label='Fairfield Sentry and S&P 500', color='blue')\n",
    "plt.plot(cml_x, cml_y, label='Capital Market Line (CML)', color='green', linestyle='--')\n",
    "plt.scatter([0], [rf], color='red', marker='.', label='rf', zorder=5)\n",
    "plt.scatter([optimal_std], [optimal_mean], color='orange', marker='o', label='Optimal Portfolio', zorder=5)\n",
    "\n",
    "plt.title('Efficient Frontier and Capital Market Line')\n",
    "plt.xlabel('std of portfolio')\n",
    "plt.ylabel('mean of portfolio')\n",
    "plt.legend()\n",
    "plt.ylim([0,0.02])\n",
    "plt.xlim([0,0.09])\n",
    "plt.show()"
   ]
  },
  {
   "cell_type": "markdown",
   "metadata": {},
   "source": [
    "### e)"
   ]
  },
  {
   "cell_type": "code",
   "execution_count": 143,
   "metadata": {},
   "outputs": [
    {
     "data": {
      "image/png": "[encoded data removed]",
      "text/plain": [
       "<Figure size 1000x600 with 1 Axes>"
      ]
     },
     "metadata": {},
     "output_type": "display_data"
    }
   ],
   "source": [
    "(1+df4[['Fairfield Sentry (a Madoff \"feeder fund\")', 'S&P 500 Index (w/dividends reinvested)']]).cumprod().plot(figsize=(10, 6))\n",
    "plt.title('Cumulative Returns')\n",
    "plt.show()"
   ]
  },
  {
   "cell_type": "markdown",
   "metadata": {},
   "source": [
    "Purely from the historical data, we can see the fund of Fairfield Sentry had higher cumulative returns and lower volatility risk, better than the s&p500. It is quite addictive to invest. Without further information like what the company is, how the fund works, what are the underlying asset of the fund, I might invest all my money to this fund at that time. However, after doing more information research, the whole company was actually suspective and may crash oneday, so I would not have invested in Fairfield Sentry."
   ]
  }
 ],
 "metadata": {
  "kernelspec": {
   "display_name": "base",
   "language": "python",
   "name": "python3"
  },
  "language_info": {
   "codemirror_mode": {
    "name": "ipython",
    "version": 3
   },
   "file_extension": ".py",
   "mimetype": "text/x-python",
   "name": "python",
   "nbconvert_exporter": "python",
   "pygments_lexer": "ipython3",
   "version": "3.11.7"
  }
 },
 "nbformat": 4,
 "nbformat_minor": 2
}
