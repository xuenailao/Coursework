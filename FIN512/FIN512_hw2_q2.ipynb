{
 "cells": [
  {
   "cell_type": "code",
   "execution_count": null,
   "metadata": {},
   "outputs": [],
   "source": [
    "import numpy as np\n",
    "from datetime import datetime"
   ]
  },
  {
   "cell_type": "markdown",
   "metadata": {},
   "source": [
    "Parameters"
   ]
  },
  {
   "cell_type": "code",
   "execution_count": null,
   "metadata": {},
   "outputs": [
    {
     "name": "stdout",
     "output_type": "stream",
     "text": [
      "Dividend Date 2025-02-28 -> T = 0.0849 years\n",
      "Dividend Date 2025-05-30 -> T = 0.3342 years\n",
      "Dividend Date 2025-08-29 -> T = 0.5836 years\n",
      "Dividend Date 2025-11-28 -> T = 0.8329 years\n"
     ]
    }
   ],
   "source": [
    "# Pricing date (Strike date)\n",
    "pricing_date = datetime(2025, 1, 28)\n",
    "\n",
    "# Dividend Payment Dates\n",
    "dividend_dates = [\n",
    "    datetime(2025, 2, 28),\n",
    "    datetime(2025, 5, 30),\n",
    "    datetime(2025, 8, 29),\n",
    "    datetime(2025, 11, 28)\n",
    "]\n",
    "\n",
    "TD = [(div_date - pricing_date).days / 365 for div_date in dividend_dates]\n",
    "\n",
    "for i, interval in enumerate(TD):\n",
    "    print(f\"Dividend Date {dividend_dates[i].strftime('%Y-%m-%d')} -> T = {interval:.4f} years\")\n"
   ]
  },
  {
   "cell_type": "code",
   "execution_count": null,
   "metadata": {},
   "outputs": [
    {
     "name": "stdout",
     "output_type": "stream",
     "text": [
      "Observation Date 2025-04-28 -> T = 0.2466 years\n",
      "Observation Date 2025-07-28 -> T = 0.4959 years\n",
      "Observation Date 2025-10-28 -> T = 0.7479 years\n"
     ]
    }
   ],
   "source": [
    "# Observation Dates\n",
    "obs_dates = [\n",
    "    datetime(2025, 4, 28),\n",
    "    datetime(2025, 7, 28),\n",
    "    datetime(2025, 10, 28),\n",
    "]\n",
    "\n",
    "obs_times  = [(obs_date - pricing_date).days / 365 for obs_date in obs_dates]\n",
    "\n",
    "for i, interval in enumerate(obs_times ):\n",
    "    print(f\"Observation Date {obs_dates[i].strftime('%Y-%m-%d')} -> T = {interval:.4f} years\")\n"
   ]
  },
  {
   "cell_type": "code",
   "execution_count": null,
   "metadata": {},
   "outputs": [],
   "source": [
    "N = 365\n",
    "S0 = 82.97\n",
    "sigma = 0.45109\n",
    "r = 0.0406\n",
    "T =  (datetime(2026, 1, 28)-pricing_date).days/365\n",
    "D = 0.01696 /4\n",
    "coupon_times = [i/12 for i in range(1, 13)]"
   ]
  },
  {
   "cell_type": "markdown",
   "metadata": {},
   "source": [
    "Stock Value Tree"
   ]
  },
  {
   "cell_type": "code",
   "execution_count": null,
   "metadata": {},
   "outputs": [],
   "source": [
    "def Stock_tree(N, S0, sigma, r, T, D, TD):\n",
    "    \n",
    "    S = np.zeros([N+1, N+1])    \n",
    "    \n",
    "    Dt = T / N\n",
    "    u = np.exp(r*Dt + sigma * (Dt)**0.5)\n",
    "    d = np.exp(r*Dt - sigma * (Dt)**0.5)\n",
    "    print(\"u = \", u, \"d=\", d)\n",
    "    # print(TD)\n",
    "\n",
    "    # FIRST LET'S BUILD A STOCK PRICE TREE WITH DIVIDENDS  \n",
    "    # Here will use the explicit formula at different stanges in the tree\n",
    "    \n",
    "    S[0,0] = S0\n",
    "    for i in range (1,N+1):\n",
    "        for j in range(0, i+1):    \n",
    "            S[i, j] = S0*(u**j)*(d**(i-j))\n",
    "            if i*Dt > TD[0]: S[i, j] = S0*u**j*d**(i-j)*(1-D) \n",
    "            if i*Dt > TD[1]: S[i, j] = S0*u**j*d**(i-j)*(1-D)**2 \n",
    "            if i*Dt > TD[2]: S[i, j] = S0*u**j*d**(i-j)*(1-D)**3 \n",
    "            if i*Dt > TD[3]: S[i, j] = S0*u**j*d**(i-j)*(1-D)**4    \n",
    "    return S"
   ]
  },
  {
   "cell_type": "markdown",
   "metadata": {},
   "source": [
    "Pricing"
   ]
  },
  {
   "cell_type": "code",
   "execution_count": null,
   "metadata": {},
   "outputs": [],
   "source": [
    "def price_EL_note(N, S0, sigma, r, T, D, TD, coupon_times, obs_times):\n",
    "    # 1. Construct the stock price binomial tree (adjusted for dividends)\n",
    "    S = Stock_tree(N, S0, sigma, r, T, D, TD)\n",
    "    \n",
    "    dt = T / N\n",
    "    # Compute binomial tree parameters (consistent with Stock_tree function)\n",
    "    u = np.exp(r*dt + sigma * np.sqrt(dt))\n",
    "    d = np.exp(r*dt - sigma * np.sqrt(dt))\n",
    "    q = (np.exp(r*dt) - d) / (u - d)\n",
    "    \n",
    "    # 2. Define note parameters\n",
    "    face = 1000.0\n",
    "    auto_call_barrier = 82.97       # Autocall trigger price: 82.97\n",
    "    conversion_barrier = 70.52      # Conversion threshold at maturity\n",
    "    coupon = face * (0.142/12)      # Monthly coupon payment, e.g., 1000*(0.142/12)\n",
    "    \n",
    "    # 3. Convert coupon and observation dates to binomial tree step indices\n",
    "    coupon_indices = [int(np.ceil(t/dt)) for t in coupon_times]\n",
    "    obs_indices = [int(np.ceil(t/dt)) for t in obs_times]\n",
    "    print(\"Coupon payment steps:\", coupon_indices)\n",
    "    print(\"Observation steps:\", obs_indices)\n",
    "    \n",
    "    # 4. Initialize the note value tree with dimensions (N+1) x (N+1)\n",
    "    V = np.zeros((N+1, N+1))\n",
    "    \n",
    "    # 5. Determine note payoff at maturity (including final coupon)\n",
    "    for j in range(N+1):\n",
    "        if S[N, j] >= conversion_barrier:\n",
    "            V[N, j] = face + coupon  # Full face value + final coupon payment\n",
    "        else:\n",
    "            # If stock price falls below the conversion threshold, apply conversion ratio (1000/70.52) and add final coupon\n",
    "            V[N, j] = (face / conversion_barrier) * S[N, j] + coupon\n",
    "    \n",
    "    # 6. Perform backward induction to compute the note value at each node\n",
    "    for i in range(N-1, -1, -1):\n",
    "        for j in range(i+1):\n",
    "            # Compute expected discounted future value\n",
    "            cont_value = np.exp(-r*dt) * (q * V[i+1, j+1] + (1-q) * V[i+1, j])\n",
    "            # If current step is a coupon payment date, add coupon\n",
    "            if i in coupon_indices:\n",
    "                cont_value += coupon\n",
    "            # If current step is an observation date, check autocall condition\n",
    "            if i in obs_indices and S[i, j] >= auto_call_barrier:\n",
    "                # Autocall: Immediately redeem the note and pay face value + current coupon\n",
    "                auto_call_payoff = face + coupon\n",
    "                V[i, j] = auto_call_payoff\n",
    "            else:\n",
    "                V[i, j] = cont_value\n",
    "    return V[0, 0]"
   ]
  },
  {
   "cell_type": "code",
   "execution_count": null,
   "metadata": {},
   "outputs": [
    {
     "name": "stdout",
     "output_type": "stream",
     "text": [
      "u =  1.0240059760645608 d= 0.9767740754256147\n",
      "Coupon payment steps: [31, 61, 92, 122, 153, 183, 213, 244, 274, 305, 335, 365]\n",
      "Observation steps: [90, 181, 273]\n"
     ]
    }
   ],
   "source": [
    "note_price = price_EL_note(N, S0, sigma, r, T, D, TD, coupon_times, obs_times)"
   ]
  },
  {
   "cell_type": "code",
   "execution_count": null,
   "metadata": {},
   "outputs": [
    {
     "name": "stdout",
     "output_type": "stream",
     "text": [
      "EL Note Price = 979.6134869654595\n"
     ]
    }
   ],
   "source": [
    "print(\"EL Note Price =\", note_price)"
   ]
  }
 ],
 "metadata": {
  "language_info": {
   "name": "python"
  }
 },
 "nbformat": 4,
 "nbformat_minor": 2
}
