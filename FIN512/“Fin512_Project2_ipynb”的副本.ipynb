{
  "cells": [
    {
      "cell_type": "code",
      "execution_count": null,
      "metadata": {
        "id": "bZP028nanR8a"
      },
      "outputs": [],
      "source": [
        "import numpy as np\n",
        "from datetime import datetime"
      ]
    },
    {
      "cell_type": "markdown",
      "metadata": {
        "id": "C6jpFragnR8c"
      },
      "source": [
        "Parameters"
      ]
    },
    {
      "cell_type": "code",
      "execution_count": null,
      "metadata": {
        "id": "paxJ1QjvnR8d",
        "outputId": "ad8be630-25a1-4a69-9fe3-514a3b2e7e90",
        "colab": {
          "base_uri": "https://localhost:8080/"
        }
      },
      "outputs": [
        {
          "output_type": "stream",
          "name": "stdout",
          "text": [
            "Dividend Date 2025-02-20 -> T = 0.0767 years\n",
            "Dividend Date 2025-05-22 -> T = 0.3260 years\n",
            "Dividend Date 2025-08-21 -> T = 0.5753 years\n",
            "Dividend Date 2025-11-20 -> T = 0.8247 years\n"
          ]
        }
      ],
      "source": [
        "# Pricing date\n",
        "pricing_date = datetime(2025, 1, 23)\n",
        "\n",
        "# Need adjustment\n",
        "# Dividend Payment Dates\n",
        "dividend_dates = [\n",
        "    datetime(2025, 2, 20),\n",
        "    datetime(2025, 5, 22),\n",
        "    datetime(2025, 8, 21),\n",
        "    datetime(2025, 11, 20)\n",
        "]\n",
        "\n",
        "TD = [(div_date - pricing_date).days / 365 for div_date in dividend_dates]\n",
        "\n",
        "for i, interval in enumerate(TD):\n",
        "    print(f\"Dividend Date {dividend_dates[i].strftime('%Y-%m-%d')} -> T = {interval:.4f} years\")\n"
      ]
    },
    {
      "cell_type": "code",
      "execution_count": null,
      "metadata": {
        "id": "0INDUJqjnR8d",
        "outputId": "6c669ad2-ac55-4439-f41d-9172f8de4f67",
        "colab": {
          "base_uri": "https://localhost:8080/"
        }
      },
      "outputs": [
        {
          "output_type": "stream",
          "name": "stdout",
          "text": [
            "Observation Date 2025-04-23 -> T = 0.2466 years\n",
            "Observation Date 2025-07-23 -> T = 0.4959 years\n",
            "Observation Date 2025-10-23 -> T = 0.7479 years\n"
          ]
        }
      ],
      "source": [
        "# Observation Dates\n",
        "obs_dates = [\n",
        "    datetime(2025, 4, 23),\n",
        "    datetime(2025, 7, 23),\n",
        "    datetime(2025, 10, 23),\n",
        "]\n",
        "\n",
        "obs_times  = [(obs_date - pricing_date).days / 365 for obs_date in obs_dates]\n",
        "\n",
        "for i, interval in enumerate(obs_times ):\n",
        "    print(f\"Observation Date {obs_dates[i].strftime('%Y-%m-%d')} -> T = {interval:.4f} years\")\n"
      ]
    },
    {
      "cell_type": "code",
      "execution_count": null,
      "metadata": {
        "id": "fIBVSKHOnR8d",
        "colab": {
          "base_uri": "https://localhost:8080/"
        },
        "outputId": "e1f92fac-390c-470d-a276-30ef37df5087"
      },
      "outputs": [
        {
          "output_type": "stream",
          "name": "stdout",
          "text": [
            "Coupon Payment Date 2025-04-28 -> T = 0.2603 years\n",
            "Coupon Payment Date 2025-07-28 -> T = 0.5096 years\n",
            "Coupon Payment Date 2025-10-28 -> T = 0.7616 years\n"
          ]
        }
      ],
      "source": [
        "# Coupon Payment Dates\n",
        "coupon_dates = [\n",
        "    datetime(2025, 4, 28),\n",
        "    datetime(2025, 7, 28),\n",
        "    datetime(2025, 10, 28),\n",
        "]\n",
        "\n",
        "coupon_times  = [(coupon_date - pricing_date).days / 365 for coupon_date in coupon_dates]\n",
        "\n",
        "for i, interval in enumerate(coupon_times ):\n",
        "    print(f\"Coupon Payment Date {coupon_dates[i].strftime('%Y-%m-%d')} -> T = {interval:.4f} years\")\n"
      ]
    },
    {
      "cell_type": "code",
      "execution_count": null,
      "metadata": {
        "id": "79QNBRkZnR8e"
      },
      "outputs": [],
      "source": [
        "N = 1000 #Could be adjusted\n",
        "S0 = 190.7\n",
        "sigma = (37.577+37.462+37.897+37.797)/4/100\n",
        "r = (4.19362+4.20058)/2/100 # Need data\n",
        "T =  (datetime(2026, 1, 23)-pricing_date).days/365\n",
        "# Dividend\n",
        "D = [0.0091/4, 0.0107/4, 0.0107/4, 0.0107/4] # data from Bloomberg"
      ]
    },
    {
      "cell_type": "code",
      "source": [
        "# Note parameters\n",
        "face = 10.0\n",
        "auto_call_barrier = 190.7       # Autocall trigger price\n",
        "coupon_barrier = 123.96\n",
        "conversion_barrier = 123.96      # Conversion threshold at maturity\n",
        "coupon = face * (0.1135/4)      # Payment\n",
        "\n",
        "note_parameters = (face, auto_call_barrier, coupon_barrier, conversion_barrier, coupon)"
      ],
      "metadata": {
        "id": "jLqVBJd7nsTN"
      },
      "execution_count": null,
      "outputs": []
    },
    {
      "cell_type": "markdown",
      "metadata": {
        "id": "c_hx0L1gnR8e"
      },
      "source": [
        "Stock Value Tree"
      ]
    },
    {
      "cell_type": "code",
      "source": [
        "def Stock_tree(N, S0, sigma, r, T, D, TD):\n",
        "\n",
        "    S = np.zeros([N+1, N+1])\n",
        "\n",
        "    Dt = T / N\n",
        "    u = np.exp(r*Dt + sigma * (Dt)**0.5)\n",
        "    d = np.exp(r*Dt - sigma * (Dt)**0.5)\n",
        "    #print(\"u = \", u, \"d=\", d)\n",
        "\n",
        "    # FIRST LET'S BUILD A STOCK PRICE TREE WITH DIVIDENDS\n",
        "    # Let's have dividends at grid points rather than times\n",
        "\n",
        "    iD1 = [i/Dt for i in TD]\n",
        "    iD = [np.ceil(i) for i in iD1]\n",
        "    print(iD)\n",
        "\n",
        "    S[0,0] = S0\n",
        "    num_D = 0\n",
        "    for i in range (1,N+1):\n",
        "        S[i, 0] = S[i-1, 0]*d\n",
        "        for j in range(1, i+1):\n",
        "            S[i, j] = S[i-1, j-1]*u\n",
        "\n",
        "    # This adjusts all stock prices for that i by the size of the dividend\n",
        "        if i in iD:\n",
        "          S[i, :] *= (1-D[num_D])\n",
        "          num_D += 1\n",
        "    # print(S[3,0], S[4,0], S[50,50])\n",
        "    return S"
      ],
      "metadata": {
        "id": "4vvnz9nY2ceF"
      },
      "execution_count": null,
      "outputs": []
    },
    {
      "cell_type": "markdown",
      "metadata": {
        "id": "jjNps-tdnR8e"
      },
      "source": [
        "Pricing"
      ]
    },
    {
      "cell_type": "code",
      "execution_count": null,
      "metadata": {
        "id": "yH07r-NtnR8e"
      },
      "outputs": [],
      "source": [
        "def price_EL_note(N, S0, sigma, r, T, D, TD, coupon_times, obs_times, note_parameters):\n",
        "    # 1. Construct the stock price binomial tree (adjusted for dividends)\n",
        "    S = Stock_tree(N, S0, sigma, r, T, D, TD)\n",
        "\n",
        "    dt = T / N\n",
        "    # Compute binomial tree parameters (consistent with Stock_tree function)\n",
        "    u = np.exp(r*dt + sigma * np.sqrt(dt))\n",
        "    d = np.exp(r*dt - sigma * np.sqrt(dt))\n",
        "    q = (np.exp(r*dt) - d) / (u - d)\n",
        "\n",
        "    # 2. Define note parameters\n",
        "    face, auto_call_barrier, coupon_barrier, conversion_barrier, coupon = note_parameters\n",
        "\n",
        "    # 3. Convert coupon and observation dates to binomial tree step indices\n",
        "    coupon_indices = [int(np.ceil(t/dt)) for t in coupon_times]\n",
        "    obs_indices = [int(np.ceil(t/dt)) for t in obs_times]\n",
        "    # print(\"Coupon payment steps:\", coupon_indices)\n",
        "    # print(\"Observation steps:\", obs_indices)\n",
        "\n",
        "    # 4. Initialize the note value tree with dimensions (N+1) x (N+1)\n",
        "    V = np.zeros((N+1, N+1))\n",
        "\n",
        "    # 5. Determine note payoff at maturity (including final coupon)\n",
        "    for j in range(N+1):\n",
        "        if S[N, j] >= conversion_barrier:\n",
        "            V[N, j] = (face + coupon)*np.exp(-r*(5/365/N))  # Full face value + final coupon payment\n",
        "        else:\n",
        "            # If stock price falls below the conversion threshold, apply conversion ratio and add final coupon\n",
        "            conversion_ratio =  S[N, j]/S0\n",
        "            # print(S0, S[N, j], conversion_ratio)\n",
        "            V[N, j] = (face * conversion_ratio)*np.exp(-r*(5/365/N))\n",
        "\n",
        "    # 6. Perform backward induction to compute the note value at each node\n",
        "    for i in range(N-1, -1, -1):\n",
        "        for j in range(i+1):\n",
        "            # Compute expected discounted future value\n",
        "            cont_value = np.exp(-r*dt) * (q * V[i+1, j+1] + (1-q) * V[i+1, j])\n",
        "            # If current step is a coupon payment date, check coupon condition, then add coupon\n",
        "            if i in coupon_indices and S[i, j] >= coupon_barrier:\n",
        "                cont_value += coupon\n",
        "            # If current step is an observation date, check autocall condition\n",
        "            if i in obs_indices and S[i, j] >= auto_call_barrier:\n",
        "                # Autocall: Immediately redeem the note and pay face value + current coupon\n",
        "                auto_call_payoff = (face + coupon)*np.exp(-r*(5/365/N))\n",
        "                V[i, j] = auto_call_payoff\n",
        "            else:\n",
        "                V[i, j] = cont_value\n",
        "    return V[0, 0]"
      ]
    },
    {
      "cell_type": "code",
      "execution_count": null,
      "metadata": {
        "id": "ZTikoLBMnR8e",
        "outputId": "ec584b33-1661-4dc9-8702-80d5be48778d",
        "colab": {
          "base_uri": "https://localhost:8080/"
        }
      },
      "outputs": [
        {
          "output_type": "stream",
          "name": "stdout",
          "text": [
            "u =  1.012030249231736 d= 0.988195704903508\n",
            "[77.0, 327.0, 576.0, 825.0]\n",
            "Coupon payment steps: [261, 510, 762]\n",
            "Observation steps: [247, 496, 748]\n"
          ]
        }
      ],
      "source": [
        "note_price = price_EL_note(N, S0, sigma, r, T, D, TD, coupon_times, obs_times, note_parameters)"
      ]
    },
    {
      "cell_type": "code",
      "execution_count": null,
      "metadata": {
        "id": "-y26WohJnR8f",
        "outputId": "4a4d617e-196c-429a-e319-9d36bb5bdd78",
        "colab": {
          "base_uri": "https://localhost:8080/"
        }
      },
      "outputs": [
        {
          "output_type": "stream",
          "name": "stdout",
          "text": [
            "TACY Note Price = 9.785529329894386\n"
          ]
        }
      ],
      "source": [
        "print(\"TACY Note Price =\", note_price)"
      ]
    },
    {
      "cell_type": "code",
      "source": [
        "# 计算 Lambda\n",
        "def compute_lambda_barrier(S_T, B):\n",
        "    below_indices = np.where(S_T <= B)[0]\n",
        "    if len(below_indices) == 0:\n",
        "        return np.nan\n",
        "\n",
        "    j = below_indices[-1]\n",
        "    if j == len(S_T) - 1:\n",
        "        return np.nan\n",
        "\n",
        "    S_below = S_T[j]\n",
        "    S_above = S_T[j + 1]\n",
        "\n",
        "    if abs(S_above - S_below) < 1e-15:\n",
        "        return np.nan\n",
        "\n",
        "    Lambda = (S_above - B) / (S_above - S_below)\n",
        "    return Lambda"
      ],
      "metadata": {
        "id": "kixpAo2SPs9l"
      },
      "execution_count": null,
      "outputs": []
    },
    {
      "cell_type": "code",
      "source": [
        "import numpy as np\n",
        "import matplotlib.pyplot as plt\n",
        "\n",
        "\n",
        "# 取不同的 N 值\n",
        "Ns = np.arange(50, 1001, 10)\n",
        "prices_lr = []\n",
        "errors_lr = []\n",
        "lambdas = []\n",
        "\n",
        "# 理论价格\n",
        "true_price = 9.76\n",
        "\n",
        "# 计算不同 N 对应的价格、误差和 Lambda\n",
        "for N in Ns:\n",
        "    priceN = price_EL_note(N, S0, sigma, r, T, D, TD, coupon_times, obs_times, note_parameters)\n",
        "    errN = (priceN / true_price - 1.0) if true_price != 0 else 0.0\n",
        "    S_tree = Stock_tree(N, S0, sigma, r, T, D, TD)\n",
        "    S_T = S_tree[N, :]  # 终端股价路径\n",
        "    B = S0  # 触发屏障\n",
        "    lamN = [compute_lambda_barrier(S_T, B) for t in obs_times]\n",
        "\n",
        "    prices_lr.append(priceN)\n",
        "    errors_lr.append(errN)\n",
        "    lambdas.append(lamN)\n",
        "\n",
        "errors_lr = np.array(errors_lr)\n",
        "lambdas = np.array(lambdas)\n"
      ],
      "metadata": {
        "colab": {
          "base_uri": "https://localhost:8080/"
        },
        "id": "04LcFeCkbrQW",
        "outputId": "774d4526-8757-4dfb-87d9-3c6f66dfa436"
      },
      "execution_count": null,
      "outputs": [
        {
          "output_type": "stream",
          "name": "stdout",
          "text": [
            "[4.0, 17.0, 29.0, 42.0]\n",
            "[4.0, 17.0, 29.0, 42.0]\n",
            "[5.0, 20.0, 35.0, 50.0]\n",
            "[5.0, 20.0, 35.0, 50.0]\n",
            "[6.0, 23.0, 41.0, 58.0]\n",
            "[6.0, 23.0, 41.0, 58.0]\n",
            "[7.0, 27.0, 47.0, 66.0]\n",
            "[7.0, 27.0, 47.0, 66.0]\n",
            "[7.0, 30.0, 52.0, 75.0]\n",
            "[7.0, 30.0, 52.0, 75.0]\n",
            "[8.0, 33.0, 58.0, 83.0]\n",
            "[8.0, 33.0, 58.0, 83.0]\n",
            "[9.0, 36.0, 64.0, 91.0]\n",
            "[9.0, 36.0, 64.0, 91.0]\n",
            "[10.0, 40.0, 70.0, 99.0]\n",
            "[10.0, 40.0, 70.0, 99.0]\n",
            "[10.0, 43.0, 75.0, 108.0]\n",
            "[10.0, 43.0, 75.0, 108.0]\n",
            "[11.0, 46.0, 81.0, 116.0]\n",
            "[11.0, 46.0, 81.0, 116.0]\n",
            "[12.0, 49.0, 87.0, 124.0]\n",
            "[12.0, 49.0, 87.0, 124.0]\n",
            "[13.0, 53.0, 93.0, 132.0]\n",
            "[13.0, 53.0, 93.0, 132.0]\n",
            "[14.0, 56.0, 98.0, 141.0]\n",
            "[14.0, 56.0, 98.0, 141.0]\n",
            "[14.0, 59.0, 104.0, 149.0]\n",
            "[14.0, 59.0, 104.0, 149.0]\n",
            "[15.0, 62.0, 110.0, 157.0]\n",
            "[15.0, 62.0, 110.0, 157.0]\n",
            "[16.0, 66.0, 116.0, 165.0]\n",
            "[16.0, 66.0, 116.0, 165.0]\n",
            "[17.0, 69.0, 121.0, 174.0]\n",
            "[17.0, 69.0, 121.0, 174.0]\n",
            "[17.0, 72.0, 127.0, 182.0]\n",
            "[17.0, 72.0, 127.0, 182.0]\n",
            "[18.0, 75.0, 133.0, 190.0]\n",
            "[18.0, 75.0, 133.0, 190.0]\n",
            "[19.0, 79.0, 139.0, 198.0]\n",
            "[19.0, 79.0, 139.0, 198.0]\n",
            "[20.0, 82.0, 144.0, 207.0]\n",
            "[20.0, 82.0, 144.0, 207.0]\n",
            "[20.0, 85.0, 150.0, 215.0]\n",
            "[20.0, 85.0, 150.0, 215.0]\n",
            "[21.0, 89.0, 156.0, 223.0]\n",
            "[21.0, 89.0, 156.0, 223.0]\n",
            "[22.0, 92.0, 162.0, 231.0]\n",
            "[22.0, 92.0, 162.0, 231.0]\n",
            "[23.0, 95.0, 167.0, 240.0]\n",
            "[23.0, 95.0, 167.0, 240.0]\n",
            "[24.0, 98.0, 173.0, 248.0]\n",
            "[24.0, 98.0, 173.0, 248.0]\n",
            "[24.0, 102.0, 179.0, 256.0]\n",
            "[24.0, 102.0, 179.0, 256.0]\n",
            "[25.0, 105.0, 185.0, 264.0]\n",
            "[25.0, 105.0, 185.0, 264.0]\n",
            "[26.0, 108.0, 190.0, 273.0]\n",
            "[26.0, 108.0, 190.0, 273.0]\n",
            "[27.0, 111.0, 196.0, 281.0]\n",
            "[27.0, 111.0, 196.0, 281.0]\n",
            "[27.0, 115.0, 202.0, 289.0]\n",
            "[27.0, 115.0, 202.0, 289.0]\n",
            "[28.0, 118.0, 208.0, 297.0]\n",
            "[28.0, 118.0, 208.0, 297.0]\n",
            "[29.0, 121.0, 213.0, 306.0]\n",
            "[29.0, 121.0, 213.0, 306.0]\n",
            "[30.0, 124.0, 219.0, 314.0]\n",
            "[30.0, 124.0, 219.0, 314.0]\n",
            "[30.0, 128.0, 225.0, 322.0]\n",
            "[30.0, 128.0, 225.0, 322.0]\n",
            "[31.0, 131.0, 231.0, 330.0]\n",
            "[31.0, 131.0, 231.0, 330.0]\n",
            "[32.0, 134.0, 236.0, 339.0]\n",
            "[32.0, 134.0, 236.0, 339.0]\n",
            "[33.0, 137.0, 242.0, 347.0]\n",
            "[33.0, 137.0, 242.0, 347.0]\n",
            "[33.0, 141.0, 248.0, 355.0]\n",
            "[33.0, 141.0, 248.0, 355.0]\n",
            "[34.0, 144.0, 254.0, 363.0]\n",
            "[34.0, 144.0, 254.0, 363.0]\n",
            "[35.0, 147.0, 259.0, 372.0]\n",
            "[35.0, 147.0, 259.0, 372.0]\n",
            "[36.0, 150.0, 265.0, 380.0]\n",
            "[36.0, 150.0, 265.0, 380.0]\n",
            "[37.0, 154.0, 271.0, 388.0]\n",
            "[37.0, 154.0, 271.0, 388.0]\n",
            "[37.0, 157.0, 277.0, 396.0]\n",
            "[37.0, 157.0, 277.0, 396.0]\n",
            "[38.0, 160.0, 282.0, 405.0]\n",
            "[38.0, 160.0, 282.0, 405.0]\n",
            "[39.0, 164.0, 288.0, 413.0]\n",
            "[39.0, 164.0, 288.0, 413.0]\n",
            "[40.0, 167.0, 294.0, 421.0]\n",
            "[40.0, 167.0, 294.0, 421.0]\n",
            "[40.0, 170.0, 300.0, 429.0]\n",
            "[40.0, 170.0, 300.0, 429.0]\n",
            "[41.0, 173.0, 305.0, 438.0]\n",
            "[41.0, 173.0, 305.0, 438.0]\n",
            "[42.0, 177.0, 311.0, 446.0]\n",
            "[42.0, 177.0, 311.0, 446.0]\n",
            "[43.0, 180.0, 317.0, 454.0]\n",
            "[43.0, 180.0, 317.0, 454.0]\n",
            "[43.0, 183.0, 323.0, 462.0]\n",
            "[43.0, 183.0, 323.0, 462.0]\n",
            "[44.0, 186.0, 328.0, 471.0]\n",
            "[44.0, 186.0, 328.0, 471.0]\n",
            "[45.0, 190.0, 334.0, 479.0]\n",
            "[45.0, 190.0, 334.0, 479.0]\n",
            "[46.0, 193.0, 340.0, 487.0]\n",
            "[46.0, 193.0, 340.0, 487.0]\n",
            "[47.0, 196.0, 346.0, 495.0]\n",
            "[47.0, 196.0, 346.0, 495.0]\n",
            "[47.0, 199.0, 351.0, 504.0]\n",
            "[47.0, 199.0, 351.0, 504.0]\n",
            "[48.0, 203.0, 357.0, 512.0]\n",
            "[48.0, 203.0, 357.0, 512.0]\n",
            "[49.0, 206.0, 363.0, 520.0]\n",
            "[49.0, 206.0, 363.0, 520.0]\n",
            "[50.0, 209.0, 369.0, 528.0]\n",
            "[50.0, 209.0, 369.0, 528.0]\n",
            "[50.0, 212.0, 374.0, 537.0]\n",
            "[50.0, 212.0, 374.0, 537.0]\n",
            "[51.0, 216.0, 380.0, 545.0]\n",
            "[51.0, 216.0, 380.0, 545.0]\n",
            "[52.0, 219.0, 386.0, 553.0]\n",
            "[52.0, 219.0, 386.0, 553.0]\n",
            "[53.0, 222.0, 392.0, 561.0]\n",
            "[53.0, 222.0, 392.0, 561.0]\n",
            "[53.0, 225.0, 397.0, 570.0]\n",
            "[53.0, 225.0, 397.0, 570.0]\n",
            "[54.0, 229.0, 403.0, 578.0]\n",
            "[54.0, 229.0, 403.0, 578.0]\n",
            "[55.0, 232.0, 409.0, 586.0]\n",
            "[55.0, 232.0, 409.0, 586.0]\n",
            "[56.0, 235.0, 415.0, 594.0]\n",
            "[56.0, 235.0, 415.0, 594.0]\n",
            "[56.0, 238.0, 420.0, 602.0]\n",
            "[56.0, 238.0, 420.0, 602.0]\n",
            "[57.0, 242.0, 426.0, 611.0]\n",
            "[57.0, 242.0, 426.0, 611.0]\n",
            "[58.0, 245.0, 432.0, 619.0]\n",
            "[58.0, 245.0, 432.0, 619.0]\n",
            "[59.0, 248.0, 438.0, 627.0]\n",
            "[59.0, 248.0, 438.0, 627.0]\n",
            "[60.0, 252.0, 444.0, 635.0]\n",
            "[60.0, 252.0, 444.0, 635.0]\n",
            "[60.0, 255.0, 449.0, 644.0]\n",
            "[60.0, 255.0, 449.0, 644.0]\n",
            "[61.0, 258.0, 455.0, 652.0]\n",
            "[61.0, 258.0, 455.0, 652.0]\n",
            "[62.0, 261.0, 461.0, 660.0]\n",
            "[62.0, 261.0, 461.0, 660.0]\n",
            "[63.0, 265.0, 467.0, 668.0]\n",
            "[63.0, 265.0, 467.0, 668.0]\n",
            "[63.0, 268.0, 472.0, 677.0]\n",
            "[63.0, 268.0, 472.0, 677.0]\n",
            "[64.0, 271.0, 478.0, 685.0]\n",
            "[64.0, 271.0, 478.0, 685.0]\n",
            "[65.0, 274.0, 484.0, 693.0]\n",
            "[65.0, 274.0, 484.0, 693.0]\n",
            "[66.0, 278.0, 490.0, 701.0]\n",
            "[66.0, 278.0, 490.0, 701.0]\n",
            "[66.0, 281.0, 495.0, 710.0]\n",
            "[66.0, 281.0, 495.0, 710.0]\n",
            "[67.0, 284.0, 501.0, 718.0]\n",
            "[67.0, 284.0, 501.0, 718.0]\n",
            "[68.0, 287.0, 507.0, 726.0]\n",
            "[68.0, 287.0, 507.0, 726.0]\n",
            "[69.0, 291.0, 513.0, 734.0]\n",
            "[69.0, 291.0, 513.0, 734.0]\n",
            "[70.0, 294.0, 518.0, 743.0]\n",
            "[70.0, 294.0, 518.0, 743.0]\n",
            "[70.0, 297.0, 524.0, 751.0]\n",
            "[70.0, 297.0, 524.0, 751.0]\n",
            "[71.0, 300.0, 530.0, 759.0]\n",
            "[71.0, 300.0, 530.0, 759.0]\n",
            "[72.0, 304.0, 536.0, 767.0]\n",
            "[72.0, 304.0, 536.0, 767.0]\n",
            "[73.0, 307.0, 541.0, 776.0]\n",
            "[73.0, 307.0, 541.0, 776.0]\n",
            "[73.0, 310.0, 547.0, 784.0]\n",
            "[73.0, 310.0, 547.0, 784.0]\n",
            "[74.0, 313.0, 553.0, 792.0]\n",
            "[74.0, 313.0, 553.0, 792.0]\n",
            "[75.0, 317.0, 559.0, 800.0]\n",
            "[75.0, 317.0, 559.0, 800.0]\n",
            "[76.0, 320.0, 564.0, 809.0]\n",
            "[76.0, 320.0, 564.0, 809.0]\n",
            "[76.0, 323.0, 570.0, 817.0]\n",
            "[76.0, 323.0, 570.0, 817.0]\n",
            "[77.0, 327.0, 576.0, 825.0]\n",
            "[77.0, 327.0, 576.0, 825.0]\n"
          ]
        }
      ]
    },
    {
      "cell_type": "code",
      "source": [
        "\n",
        "# 绘制 Lambda 和 Price Error 在同一张图上\n",
        "fig, ax1 = plt.subplots(figsize=(10, 6))\n",
        "\n",
        "# Relative Error 曲线\n",
        "color_err = 'blue'\n",
        "ax1.set_xlabel(\"Number of Time Steps (N)\")\n",
        "ax1.set_ylabel(\"Relative Error\", color=color_err)\n",
        "ax1.plot(Ns, errors_lr, marker='o', linestyle='', color=color_err, label=\"Error\")\n",
        "ax1.axhline(0, color='gray', linestyle='--')\n",
        "ax1.tick_params(axis='y', labelcolor=color_err)\n",
        "\n",
        "# Lambda 曲线\n",
        "ax2 = ax1.twinx()\n",
        "ax2.set_ylabel(\"Lambda\", color='red')\n",
        "ax2.tick_params(axis='y', labelcolor='red')\n",
        "\n",
        "colors = ['purple', 'red', 'green', 'orange']\n",
        "for i, t in enumerate(obs_times):\n",
        "    ax2.plot(Ns, lambdas[:, i], marker='x', linestyle='',\n",
        "              color=colors[i % len(colors)],\n",
        "              label=f\"Lambda (t={t:.3f})\")\n",
        "\n",
        "# 合并图例\n",
        "lines1, labels1 = ax1.get_legend_handles_labels()\n",
        "lines2, labels2 = ax2.get_legend_handles_labels()\n",
        "ax2.legend(lines1 + lines2, labels1 + labels2, loc='best')\n",
        "\n",
        "fig.suptitle(\"Error vs. Lambda for Binomial Pricing of EL Notes\")\n",
        "fig.tight_layout()\n",
        "plt.show()"
      ],
      "metadata": {
        "colab": {
          "base_uri": "https://localhost:8080/",
          "height": 609
        },
        "id": "YD-CpYdweuYC",
        "outputId": "f19a8a9f-5c30-448d-9138-3269e1d62504"
      },
      "execution_count": null,
      "outputs": [
        {
          "output_type": "display_data",
          "data": {
            "text/plain": [
              "<Figure size 1000x600 with 2 Axes>"
            ],
            "image/png": "[encoded data removed]"
          },
          "metadata": {}
        }
      ]
    }
  ],
  "metadata": {
    "language_info": {
      "name": "python"
    },
    "colab": {
      "provenance": []
    },
    "kernelspec": {
      "name": "python3",
      "display_name": "Python 3"
    }
  },
  "nbformat": 4,
  "nbformat_minor": 0
}